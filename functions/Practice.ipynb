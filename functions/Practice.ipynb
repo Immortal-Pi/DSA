{
 "cells": [
  {
   "cell_type": "markdown",
   "metadata": {},
   "source": [
    "# Celsius to Fahrenheit\n",
    "Problem Description:\n",
    "\n",
    "You are given a temperature in Celsius. Your task is to convert it to Fahrenheit and return the result.\n",
    "\n",
    "Formula:\n",
    "\n",
    "To convert Celsius to Fahrenheit, use the formula:\n",
    "\n",
    "F = (9/5 * C) + 32\n",
    "\n",
    "Where F is the temperature in Fahrenheit and C is the temperature in Celsius.\n",
    "\n",
    "\n",
    "\n",
    "Input:\n",
    "\n",
    "A floating-point number C representing the temperature in Celsius.\n",
    "\n",
    "\n",
    "\n",
    "Output:\n",
    "\n",
    "A floating-point number representing the temperature in Fahrenheit.\n",
    "\n"
   ]
  },
  {
   "cell_type": "code",
   "execution_count": 1,
   "metadata": {},
   "outputs": [],
   "source": [
    "def celsius_to_fahrenheit(C):\n",
    "    \"\"\"\n",
    "    Function to convert temperature from Celsius to Fahrenheit.\n",
    "    \n",
    "    Parameters:\n",
    "    C (float): The temperature in Celsius.\n",
    "    \n",
    "    Returns:\n",
    "    float: The temperature in Fahrenheit.\n",
    "    \"\"\"\n",
    "    # Your code here\n",
    "    return (9/5*C) +32"
   ]
  },
  {
   "cell_type": "code",
   "execution_count": 4,
   "metadata": {},
   "outputs": [],
   "source": [
    "def calculate_lift_rounds(n, capacity):\n",
    "    \"\"\"\n",
    "    Function to calculate the number of rounds the lift needs to cover.\n",
    "    \n",
    "    Parameters:\n",
    "    n (int): Total number of people.\n",
    "    capacity (int): Maximum number of people the lift can carry in one round.\n",
    "    \n",
    "    Returns:\n",
    "    int: The number of rounds required to transport all people to the top floor.\n",
    "    \"\"\"\n",
    "    # Your code here\n",
    "    if n%capacity==0:\n",
    "        return int(n/capacity)\n",
    "    else:\n",
    "        return int(n/capacity)+1\n"
   ]
  },
  {
   "cell_type": "code",
   "execution_count": 6,
   "metadata": {},
   "outputs": [
    {
     "data": {
      "text/plain": [
       "2"
      ]
     },
     "execution_count": 6,
     "metadata": {},
     "output_type": "execute_result"
    }
   ],
   "source": [
    "calculate_lift_rounds(7,4)"
   ]
  },
  {
   "cell_type": "code",
   "execution_count": 9,
   "metadata": {},
   "outputs": [],
   "source": [
    "def remove_duplicates(lst):\n",
    "    # Your code goes here\n",
    "    return list(set(lst))"
   ]
  },
  {
   "cell_type": "code",
   "execution_count": 10,
   "metadata": {},
   "outputs": [
    {
     "data": {
      "text/plain": [
       "[1, 2, 3, 4, 5]"
      ]
     },
     "execution_count": 10,
     "metadata": {},
     "output_type": "execute_result"
    }
   ],
   "source": [
    "remove_duplicates([1, 2, 2, 3, 4, 4, 5])"
   ]
  },
  {
   "cell_type": "markdown",
   "metadata": {},
   "source": [
    "# reverse a string without slicling operation"
   ]
  },
  {
   "cell_type": "code",
   "execution_count": 15,
   "metadata": {},
   "outputs": [],
   "source": [
    "def reverse_list(lst):\n",
    "    # Your code goes here\n",
    "    return list(lst[x] for x in range(len(lst)-1,-1,-1))"
   ]
  },
  {
   "cell_type": "code",
   "execution_count": 16,
   "metadata": {},
   "outputs": [
    {
     "data": {
      "text/plain": [
       "[6, 5, 4, 2, 1]"
      ]
     },
     "execution_count": 16,
     "metadata": {},
     "output_type": "execute_result"
    }
   ],
   "source": [
    "reverse_list([1,2,4,5,6])"
   ]
  },
  {
   "cell_type": "markdown",
   "metadata": {},
   "source": [
    "# subset without in operation"
   ]
  },
  {
   "cell_type": "code",
   "execution_count": 20,
   "metadata": {},
   "outputs": [],
   "source": [
    "def is_subset(lst1, lst2):\n",
    "    # Your code goes here\n",
    "    count=0\n",
    "    for i in lst1:\n",
    "        \n",
    "        for j in lst2:\n",
    "            if i==j:\n",
    "                count+=1\n",
    "    \n",
    "    if count==len(lst1):\n",
    "        return True\n",
    "    else:\n",
    "        return False\n",
    "\n",
    "        \n",
    "    "
   ]
  },
  {
   "cell_type": "code",
   "execution_count": 22,
   "metadata": {},
   "outputs": [
    {
     "data": {
      "text/plain": [
       "False"
      ]
     },
     "execution_count": 22,
     "metadata": {},
     "output_type": "execute_result"
    }
   ],
   "source": [
    "is_subset([1,2,7],[1,2,3,4,5,6])"
   ]
  },
  {
   "cell_type": "code",
   "execution_count": 28,
   "metadata": {},
   "outputs": [
    {
     "data": {
      "text/plain": [
       "[1, 2, 7, 5, 6, 7, 8, 9]"
      ]
     },
     "execution_count": 28,
     "metadata": {},
     "output_type": "execute_result"
    }
   ],
   "source": [
    "list1=[1,2,7]\n",
    "list2=[5,6,7,8,9]\n",
    "list1.extend(list2)\n",
    "list1 "
   ]
  },
  {
   "cell_type": "code",
   "execution_count": 59,
   "metadata": {},
   "outputs": [],
   "source": [
    "def rotate_list(lst, k):\n",
    "    # Your code goes here\n",
    "    if not lst:\n",
    "        return []\n",
    "    k=k%len(lst)\n",
    "\n",
    "    for _ in range(k):\n",
    "        last_element=lst.pop()\n",
    "        lst.insert(0,last_element)\n",
    "    return lst"
   ]
  },
  {
   "cell_type": "code",
   "execution_count": 60,
   "metadata": {},
   "outputs": [
    {
     "data": {
      "text/plain": [
       "[30, 40, 50, 10, 20]"
      ]
     },
     "execution_count": 60,
     "metadata": {},
     "output_type": "execute_result"
    }
   ],
   "source": [
    "rotate_list([10, 20, 30, 40, 50],3)"
   ]
  },
  {
   "cell_type": "markdown",
   "metadata": {},
   "source": [
    "Merge 2 List into Dictionary\n",
    "Merge Lists to Dictionary\n",
    "\n",
    "Design a Python function named merge_lists_to_dictionary to merge two lists into a dictionary where elements from the first list act as keys and elements from the second list act as values.\n",
    "\n",
    "Parameters:\n",
    "\n",
    "keys (List): A list of keys.\n",
    "\n",
    "values (List): A list of values.\n",
    "\n",
    "Returns:\n",
    "\n",
    "A dictionary containing merged key-value pairs.\n",
    "\n",
    "Example:\n",
    "\n",
    "Input: keys = ['a', 'b', 'c'], values = [1, 2, 3]\n",
    "Output: {'a': 1, 'b': 2, 'c': 3}\n",
    "\n",
    "Input: keys = ['x', 'y', 'z'], values = [10, 20, 30]\n",
    "Output: {'x': 10, 'y': 20, 'z': 30}\n",
    "\n"
   ]
  },
  {
   "cell_type": "code",
   "execution_count": 70,
   "metadata": {},
   "outputs": [],
   "source": [
    "def merge_lists_to_dictionary(keys, values):\n",
    "    # Your code goes here\n",
    "    merged_dict=dict()\n",
    "    if len(keys)!=len(values):\n",
    "        return False\n",
    "    for i in range(len(keys)):\n",
    "        merged_dict[keys[i]]=values[i]\n",
    "        \n",
    "    return merged_dict"
   ]
  },
  {
   "cell_type": "code",
   "execution_count": 71,
   "metadata": {},
   "outputs": [
    {
     "data": {
      "text/plain": [
       "{'a': 1, 'b': 2, 'c': 3}"
      ]
     },
     "execution_count": 71,
     "metadata": {},
     "output_type": "execute_result"
    }
   ],
   "source": [
    "keys=['a', 'b', 'c']\n",
    "values=[1, 2, 3]\n",
    "\n",
    "merge_lists_to_dictionary(keys,values)"
   ]
  },
  {
   "cell_type": "markdown",
   "metadata": {},
   "source": [
    "# Words Frequency in a Sentence\n",
    "Count Word Frequency\n",
    "\n",
    "Design a Python function named count_word_frequency to count the frequency of words in a sentence and store the counts in a dictionary.\n",
    "\n",
    "Parameters:\n",
    "\n",
    "sentence (str): The input sentence where you need to count the frequency of each word.\n",
    "\n",
    "Returns:\n",
    "\n",
    "A dictionary where the keys are words from the sentence and the values are their corresponding frequencies.\n",
    "\n",
    "Example:\n",
    "\n",
    "Input: \"hello world hello\"\n",
    "Output: {'hello': 2, 'world': 1}\n",
    "\n",
    "Input: \"the quick brown fox jumps over the lazy dog\"\n",
    "Output: {'the': 2, 'quick': 1, 'brown': 1, 'fox': 1, 'jumps': 1, 'over': 1, 'lazy': 1, 'dog': 1}"
   ]
  },
  {
   "cell_type": "code",
   "execution_count": 66,
   "metadata": {},
   "outputs": [],
   "source": [
    "def count_word_frequency(sentence):\n",
    "    # Your code goes here\n",
    "    word_frequency=dict()\n",
    "    for word in sentence.split():\n",
    "        if word in word_frequency:\n",
    "            word_frequency[word]+=1\n",
    "        else:\n",
    "            word_frequency[word]=1\n",
    "    return word_frequency"
   ]
  },
  {
   "cell_type": "code",
   "execution_count": 67,
   "metadata": {},
   "outputs": [
    {
     "data": {
      "text/plain": [
       "{'the': 2,\n",
       " 'quick': 1,\n",
       " 'brown': 1,\n",
       " 'fox': 1,\n",
       " 'jumps': 1,\n",
       " 'over': 1,\n",
       " 'lazy': 1,\n",
       " 'dog': 1}"
      ]
     },
     "execution_count": 67,
     "metadata": {},
     "output_type": "execute_result"
    }
   ],
   "source": [
    "count_word_frequency(\"the quick brown fox jumps over the lazy dog\")"
   ]
  },
  {
   "cell_type": "markdown",
   "metadata": {},
   "source": [
    "# Palindromic Tuple\n",
    "Check if Tuple is Palindromic\n",
    "\n",
    "Design a Python function named is_palindromic_tuple to check if a tuple is palindromic, meaning it reads the same forwards and backwards.\n",
    "\n",
    "Parameters:\n",
    "\n",
    "tup (tuple): The input tuple that you need to check for palindromic property.\n",
    "\n",
    "Returns:\n",
    "\n",
    "True if the tuple is palindromic, False otherwise.\n",
    "\n",
    "Example:\n",
    "\n",
    "Input: (1, 2, 3, 2, 1)\n",
    "Output: True\n",
    "\n",
    "Input: ('a', 'b', 'c', 'b', 'a')\n",
    "Output: True\n",
    "\n",
    "Input: (1, 2, 3, 4, 5)\n",
    "Output: False\n",
    "\n",
    "Input: ('x', 'y', 'z', 'x')\n",
    "Output: False\n",
    "\n",
    "Input: ('a',)\n",
    "Output: True"
   ]
  },
  {
   "cell_type": "code",
   "execution_count": 97,
   "metadata": {},
   "outputs": [],
   "source": [
    "def is_palindromic_tuple(tup):\n",
    "    # Your code goes here\n",
    "    if len(tup)%2==0:\n",
    "        return tup[:int(len(tup)/2)]==tuple(reversed(tup[int(len(tup)/2):]))\n",
    "    else:\n",
    "        return tup[:int(len(tup)/2)]==tuple(reversed(tup[int(len(tup)/2)+1:]))"
   ]
  },
  {
   "cell_type": "code",
   "execution_count": 98,
   "metadata": {},
   "outputs": [
    {
     "data": {
      "text/plain": [
       "True"
      ]
     },
     "execution_count": 98,
     "metadata": {},
     "output_type": "execute_result"
    }
   ],
   "source": [
    "is_palindromic_tuple((1, 2, 3, 3,2,1))"
   ]
  },
  {
   "cell_type": "code",
   "execution_count": 99,
   "metadata": {},
   "outputs": [
    {
     "name": "stdout",
     "output_type": "stream",
     "text": [
      "(1, 2, 3)\n",
      "(4, 5, 6, 7)\n"
     ]
    }
   ],
   "source": [
    "tup=(1,2,3,4,5,6,7)\n",
    "print(tup[:int(len(tup)/2)])\n",
    "print(tup[int(len(tup)/2):])"
   ]
  },
  {
   "cell_type": "markdown",
   "metadata": {},
   "source": [
    "# Merge Dictionaries with Common Keys\n",
    "Problem Description\n",
    "\n",
    "Merge Dictionaries with Overlapping Keys\n",
    "\n",
    "Design a Python function named merge_dicts_with_overlapping_keys that merges multiple dictionaries into a single dictionary. If a key appears in more than one dictionary, sum up their values.\n",
    "\n",
    "Parameters:\n",
    "\n",
    "dicts (list): A list of dictionaries where keys might overlap.\n",
    "\n",
    "Returns:\n",
    "\n",
    "A single dictionary where values for overlapping keys are summed.\n",
    "\n",
    "Example:\n",
    "\n",
    "Input: [{'a': 1, 'b': 2}, {'b': 3, 'c': 4}, {'c': 5, 'd': 6}]\n",
    "Output: {'a': 1, 'b': 5, 'c': 9, 'd': 6}\n",
    "\n",
    "Input: [{'x': 10, 'y': 20}, {'y': 30, 'z': 40}, {'z': 50, 'x': 60}]\n",
    "Output: {'x': 70, 'y': 50, 'z': 90}"
   ]
  },
  {
   "cell_type": "code",
   "execution_count": 101,
   "metadata": {},
   "outputs": [],
   "source": [
    "def merge_dicts_with_overlapping_keys(dicts):\n",
    "    # Your code goes here\n",
    "    merged_dict=dict()\n",
    "    for dict_ in dicts:\n",
    "        for i,v in dict_.items():\n",
    "            if i in merged_dict.keys():\n",
    "                merged_dict[i]+=v\n",
    "            else:\n",
    "                merged_dict[i]=v\n",
    "    return merged_dict"
   ]
  },
  {
   "cell_type": "code",
   "execution_count": 102,
   "metadata": {},
   "outputs": [
    {
     "data": {
      "text/plain": [
       "{'a': 1, 'b': 5, 'c': 9, 'd': 6}"
      ]
     },
     "execution_count": 102,
     "metadata": {},
     "output_type": "execute_result"
    }
   ],
   "source": [
    "merge_dicts_with_overlapping_keys([{'a': 1, 'b': 2}, {'b': 3, 'c': 4}, {'c': 5, 'd': 6}])"
   ]
  },
  {
   "cell_type": "code",
   "execution_count": null,
   "metadata": {},
   "outputs": [],
   "source": []
  }
 ],
 "metadata": {
  "kernelspec": {
   "display_name": "Python 3",
   "language": "python",
   "name": "python3"
  },
  "language_info": {
   "codemirror_mode": {
    "name": "ipython",
    "version": 3
   },
   "file_extension": ".py",
   "mimetype": "text/x-python",
   "name": "python",
   "nbconvert_exporter": "python",
   "pygments_lexer": "ipython3",
   "version": "3.12.0"
  }
 },
 "nbformat": 4,
 "nbformat_minor": 2
}
