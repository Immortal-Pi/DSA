{
 "cells": [
  {
   "cell_type": "markdown",
   "id": "db645b3d",
   "metadata": {},
   "source": [
    "# sorting algorithms "
   ]
  },
  {
   "cell_type": "markdown",
   "id": "90964bd9",
   "metadata": {},
   "source": [
    "## bubble sort"
   ]
  },
  {
   "cell_type": "code",
   "execution_count": 15,
   "id": "82b9e30c",
   "metadata": {},
   "outputs": [
    {
     "name": "stdout",
     "output_type": "stream",
     "text": [
      "0 0 [4, 5, 3, 2, 1]\n",
      "0 1 [4, 3, 5, 2, 1]\n",
      "0 2 [4, 3, 2, 5, 1]\n",
      "0 3 [4, 3, 2, 1, 5]\n",
      "1 0 [3, 4, 2, 1, 5]\n",
      "1 1 [3, 2, 4, 1, 5]\n",
      "1 2 [3, 2, 1, 4, 5]\n",
      "2 0 [2, 3, 1, 4, 5]\n",
      "2 1 [2, 1, 3, 4, 5]\n",
      "3 0 [1, 2, 3, 4, 5]\n",
      "[1, 2, 3, 4, 5]\n"
     ]
    }
   ],
   "source": [
    "# 2 loops \n",
    "# 1st loop will be the number of passes \n",
    "# 2nd loop\n",
    "\n",
    "def bubble_sort(input_list)->list:\n",
    "    for i in range(len(input_list)-1):\n",
    "        for j in range(len(input_list)-i-1):\n",
    "            if input_list[j]>input_list[j+1]:\n",
    "                # temp=input_list[j]\n",
    "                # input_list[j]=input_list[j+1]\n",
    "                # input_list[j+1]=temp \n",
    "                input_list[j],input_list[j+1]=input_list[j+1],input_list[j]\n",
    "            print(i,j,input_list)\n",
    "    return input_list\n",
    "                \n",
    "\n",
    "\n",
    "input_list=[5,4,3,2,1]\n",
    "print(bubble_sort(input_list))\n"
   ]
  },
  {
   "cell_type": "code",
   "execution_count": null,
   "id": "515d16b1",
   "metadata": {},
   "outputs": [],
   "source": []
  }
 ],
 "metadata": {
  "kernelspec": {
   "display_name": "appliedML",
   "language": "python",
   "name": "python3"
  },
  "language_info": {
   "codemirror_mode": {
    "name": "ipython",
    "version": 3
   },
   "file_extension": ".py",
   "mimetype": "text/x-python",
   "name": "python",
   "nbconvert_exporter": "python",
   "pygments_lexer": "ipython3",
   "version": "3.10.16"
  }
 },
 "nbformat": 4,
 "nbformat_minor": 5
}
