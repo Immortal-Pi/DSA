{
 "cells": [
  {
   "cell_type": "markdown",
   "id": "db645b3d",
   "metadata": {},
   "source": [
    "# sorting algorithms "
   ]
  },
  {
   "cell_type": "markdown",
   "id": "90964bd9",
   "metadata": {},
   "source": [
    "## bubble sort"
   ]
  },
  {
   "cell_type": "code",
   "execution_count": 8,
   "id": "82b9e30c",
   "metadata": {},
   "outputs": [
    {
     "name": "stdout",
     "output_type": "stream",
     "text": [
      "0 0 [5, 44, 55, 4, 3, 2, 1]\n",
      "0 1 [5, 44, 55, 4, 3, 2, 1]\n",
      "0 2 [5, 44, 4, 55, 3, 2, 1]\n",
      "0 3 [5, 44, 4, 3, 55, 2, 1]\n",
      "0 4 [5, 44, 4, 3, 2, 55, 1]\n",
      "0 5 [5, 44, 4, 3, 2, 1, 55]\n",
      "1 0 [5, 44, 4, 3, 2, 1, 55]\n",
      "1 1 [5, 4, 44, 3, 2, 1, 55]\n",
      "1 2 [5, 4, 3, 44, 2, 1, 55]\n",
      "1 3 [5, 4, 3, 2, 44, 1, 55]\n",
      "1 4 [5, 4, 3, 2, 1, 44, 55]\n",
      "2 0 [4, 5, 3, 2, 1, 44, 55]\n",
      "2 1 [4, 3, 5, 2, 1, 44, 55]\n",
      "2 2 [4, 3, 2, 5, 1, 44, 55]\n",
      "2 3 [4, 3, 2, 1, 5, 44, 55]\n",
      "3 0 [3, 4, 2, 1, 5, 44, 55]\n",
      "3 1 [3, 2, 4, 1, 5, 44, 55]\n",
      "3 2 [3, 2, 1, 4, 5, 44, 55]\n",
      "4 0 [2, 3, 1, 4, 5, 44, 55]\n",
      "4 1 [2, 1, 3, 4, 5, 44, 55]\n",
      "5 0 [1, 2, 3, 4, 5, 44, 55]\n",
      "[1, 2, 3, 4, 5, 44, 55]\n"
     ]
    }
   ],
   "source": [
    "# 2 loops \n",
    "# 1st loop will be the number of passes \n",
    "# 2nd loop\n",
    "\n",
    "def bubble_sort(input_list)->list:\n",
    "    for i in range(len(input_list)-1):\n",
    "        for j in range(len(input_list)-i-1):\n",
    "            if input_list[j]>input_list[j+1]:\n",
    "                # temp=input_list[j]\n",
    "                # input_list[j]=input_list[j+1]\n",
    "                # input_list[j+1]=temp \n",
    "                input_list[j],input_list[j+1]=input_list[j+1],input_list[j]\n",
    "            print(i,j,input_list)\n",
    "    return input_list\n",
    "                \n",
    "\n",
    "\n",
    "input_list=[44,5,55,4,3,2,1]\n",
    "print(bubble_sort(input_list))\n"
   ]
  },
  {
   "cell_type": "markdown",
   "id": "515d16b1",
   "metadata": {},
   "source": [
    "# selection sort"
   ]
  },
  {
   "cell_type": "code",
   "execution_count": 7,
   "id": "2c8230d6",
   "metadata": {},
   "outputs": [
    {
     "name": "stdout",
     "output_type": "stream",
     "text": [
      "0 6 [1, 44, 55, 5, 4, 3, 2]\n",
      "1 6 [1, 2, 55, 44, 5, 4, 3]\n",
      "2 6 [1, 2, 3, 55, 44, 5, 4]\n",
      "3 6 [1, 2, 3, 4, 55, 44, 5]\n",
      "4 6 [1, 2, 3, 4, 5, 55, 44]\n",
      "5 6 [1, 2, 3, 4, 5, 44, 55]\n",
      "[1, 2, 3, 4, 5, 44, 55]\n"
     ]
    }
   ],
   "source": [
    "def selection_sort(input_list)->list:\n",
    "    for i in range(len(input_list)-1):\n",
    "        for j in range(i+1,len(input_list)):\n",
    "            if input_list[j]<input_list[i]:\n",
    "                input_list[i],input_list[j]=input_list[j],input_list[i]\n",
    "        print(i,j,input_list)\n",
    "    return input_list\n",
    "\n",
    "input_list=[44,5,55,4,3,2,1]\n",
    "print(selection_sort(input_list))"
   ]
  },
  {
   "cell_type": "markdown",
   "id": "abb54326",
   "metadata": {},
   "source": [
    "# insertion sort\n"
   ]
  },
  {
   "cell_type": "code",
   "execution_count": 59,
   "id": "850d5e45",
   "metadata": {},
   "outputs": [
    {
     "name": "stdout",
     "output_type": "stream",
     "text": [
      "[1, 4, 20, 55, 55, 100, 100]\n"
     ]
    }
   ],
   "source": [
    "def insertion_sort(input_list)->list:\n",
    "    for i in range(1,len(input_list)):\n",
    "        current=input_list[i]\n",
    "        # print(current)\n",
    "\n",
    "        for j in range(i-1,-1,-1):\n",
    "            # print('b',input_list[i],input_list[j],input_list)\n",
    "            if current<input_list[j]:\n",
    "                input_list[j+1]=input_list[j]\n",
    "            else:\n",
    "                break \n",
    "        input_list[j]=current\n",
    "        # print('a',input_list[i],input_list[j],input_list)\n",
    "    return input_list\n",
    "\n",
    "input_list=[44,5,55,4,100,20,1]\n",
    "print(insertion_sort(input_list))"
   ]
  },
  {
   "cell_type": "code",
   "execution_count": 60,
   "id": "26286f82",
   "metadata": {},
   "outputs": [
    {
     "name": "stdout",
     "output_type": "stream",
     "text": [
      "b [44, 5, 55, 4, 100, 20, 1]\n",
      "i [44, 44, 55, 4, 100, 20, 1]\n",
      "a [5, 44, 55, 4, 100, 20, 1]\n",
      "b [5, 44, 55, 4, 100, 20, 1]\n",
      "a [5, 44, 55, 4, 100, 20, 1]\n",
      "b [5, 44, 55, 4, 100, 20, 1]\n",
      "i [5, 44, 55, 55, 100, 20, 1]\n",
      "i [5, 44, 44, 55, 100, 20, 1]\n",
      "i [5, 5, 44, 55, 100, 20, 1]\n",
      "a [4, 5, 44, 55, 100, 20, 1]\n",
      "b [4, 5, 44, 55, 100, 20, 1]\n",
      "a [4, 5, 44, 55, 100, 20, 1]\n",
      "b [4, 5, 44, 55, 100, 20, 1]\n",
      "i [4, 5, 44, 55, 100, 100, 1]\n",
      "i [4, 5, 44, 55, 55, 100, 1]\n",
      "i [4, 5, 44, 44, 55, 100, 1]\n",
      "a [4, 5, 20, 44, 55, 100, 1]\n",
      "b [4, 5, 20, 44, 55, 100, 1]\n",
      "i [4, 5, 20, 44, 55, 100, 100]\n",
      "i [4, 5, 20, 44, 55, 55, 100]\n",
      "i [4, 5, 20, 44, 44, 55, 100]\n",
      "i [4, 5, 20, 20, 44, 55, 100]\n",
      "i [4, 5, 5, 20, 44, 55, 100]\n",
      "i [4, 4, 5, 20, 44, 55, 100]\n",
      "a [1, 4, 5, 20, 44, 55, 100]\n",
      "[1, 4, 5, 20, 44, 55, 100]\n"
     ]
    }
   ],
   "source": [
    "def insertion_sort(input_list)->list:\n",
    "    for i in range(1,len(input_list)):\n",
    "        current_element=input_list[i]\n",
    "        correct_position=i-1\n",
    "        print('b',input_list)\n",
    "        while correct_position>=0 and input_list[correct_position]>current_element:\n",
    "            input_list[correct_position+1]=input_list[correct_position]\n",
    "            correct_position-=1\n",
    "            print('i',input_list)\n",
    "        input_list[correct_position+1]=current_element\n",
    "        print('a',input_list)\n",
    "       \n",
    "    return input_list\n",
    "input_list=[44,5,55,4,100,20,1]\n",
    "print(insertion_sort(input_list))"
   ]
  },
  {
   "cell_type": "code",
   "execution_count": 3,
   "id": "f7030843",
   "metadata": {},
   "outputs": [
    {
     "name": "stdout",
     "output_type": "stream",
     "text": [
      "[1, 4, 5, 20, 44, 55, 100]\n"
     ]
    }
   ],
   "source": [
    "def insertion_sort(input_list)->list:\n",
    "    for i in range(1,len(input_list)):\n",
    "        current_element=input_list[i]\n",
    "        correct_position=i-1\n",
    "        while correct_position>=0 and input_list[correct_position]>current_element:\n",
    "            input_list[correct_position+1]=input_list[correct_position]\n",
    "            correct_position-=1\n",
    "        input_list[correct_position+1]=current_element\n",
    "    return input_list\n",
    "\n",
    "       \n",
    "    \n",
    "input_list=[44,5,55,4,100,20,1]\n",
    "print(insertion_sort(input_list))"
   ]
  },
  {
   "cell_type": "code",
   "execution_count": 12,
   "id": "ee515337",
   "metadata": {},
   "outputs": [
    {
     "name": "stdout",
     "output_type": "stream",
     "text": [
      "[99, 22, 44, 1, 2, 7, 3, 4, 0] 0 0 1\n",
      "[22, 99, 44, 1, 2, 7, 3, 4, 0] 0 1 2\n",
      "[22, 44, 99, 1, 2, 7, 3, 4, 0] 0 2 3\n",
      "[22, 44, 1, 99, 2, 7, 3, 4, 0] 0 3 4\n",
      "[22, 44, 1, 2, 99, 7, 3, 4, 0] 0 4 5\n",
      "[22, 44, 1, 2, 7, 99, 3, 4, 0] 0 5 6\n",
      "[22, 44, 1, 2, 7, 3, 99, 4, 0] 0 6 7\n",
      "[22, 44, 1, 2, 7, 3, 4, 99, 0] 0 7 8\n",
      "[22, 44, 1, 2, 7, 3, 4, 0, 99] 1 0 1\n",
      "[22, 44, 1, 2, 7, 3, 4, 0, 99] 1 1 2\n",
      "[22, 1, 44, 2, 7, 3, 4, 0, 99] 1 2 3\n",
      "[22, 1, 2, 44, 7, 3, 4, 0, 99] 1 3 4\n",
      "[22, 1, 2, 7, 44, 3, 4, 0, 99] 1 4 5\n",
      "[22, 1, 2, 7, 3, 44, 4, 0, 99] 1 5 6\n",
      "[22, 1, 2, 7, 3, 4, 44, 0, 99] 1 6 7\n",
      "[22, 1, 2, 7, 3, 4, 0, 44, 99] 2 0 1\n",
      "[1, 22, 2, 7, 3, 4, 0, 44, 99] 2 1 2\n",
      "[1, 2, 22, 7, 3, 4, 0, 44, 99] 2 2 3\n",
      "[1, 2, 7, 22, 3, 4, 0, 44, 99] 2 3 4\n",
      "[1, 2, 7, 3, 22, 4, 0, 44, 99] 2 4 5\n",
      "[1, 2, 7, 3, 4, 22, 0, 44, 99] 2 5 6\n",
      "[1, 2, 7, 3, 4, 0, 22, 44, 99] 3 0 1\n",
      "[1, 2, 7, 3, 4, 0, 22, 44, 99] 3 1 2\n",
      "[1, 2, 7, 3, 4, 0, 22, 44, 99] 3 2 3\n",
      "[1, 2, 3, 7, 4, 0, 22, 44, 99] 3 3 4\n",
      "[1, 2, 3, 4, 7, 0, 22, 44, 99] 3 4 5\n",
      "[1, 2, 3, 4, 0, 7, 22, 44, 99] 4 0 1\n",
      "[1, 2, 3, 4, 0, 7, 22, 44, 99] 4 1 2\n",
      "[1, 2, 3, 4, 0, 7, 22, 44, 99] 4 2 3\n",
      "[1, 2, 3, 4, 0, 7, 22, 44, 99] 4 3 4\n",
      "[1, 2, 3, 0, 4, 7, 22, 44, 99] 5 0 1\n",
      "[1, 2, 3, 0, 4, 7, 22, 44, 99] 5 1 2\n",
      "[1, 2, 3, 0, 4, 7, 22, 44, 99] 5 2 3\n",
      "[1, 2, 0, 3, 4, 7, 22, 44, 99] 6 0 1\n",
      "[1, 2, 0, 3, 4, 7, 22, 44, 99] 6 1 2\n",
      "[1, 0, 2, 3, 4, 7, 22, 44, 99] 7 0 1\n"
     ]
    },
    {
     "data": {
      "text/plain": [
       "[0, 1, 2, 3, 4, 7, 22, 44, 99]"
      ]
     },
     "execution_count": 12,
     "metadata": {},
     "output_type": "execute_result"
    }
   ],
   "source": [
    "# bubble sort\n",
    "def bubble_sort(arr):\n",
    "    for i in range(len(arr)-1):\n",
    "        for j in range(len(arr)-1-i):\n",
    "            print(arr,i,j,j+1)\n",
    "            if arr[j+1]<arr[j]:\n",
    "                arr[j],arr[j+1]=arr[j+1],arr[j]\n",
    "                \n",
    "    return arr \n",
    "\n",
    "\n",
    "bubble_sort([99,22,44,1,2,7,3,4,0])"
   ]
  },
  {
   "cell_type": "code",
   "execution_count": 13,
   "id": "dbfa005f",
   "metadata": {},
   "outputs": [
    {
     "data": {
      "text/plain": [
       "[0, 1, 2, 3, 4, 7, 22, 44, 99]"
      ]
     },
     "execution_count": 13,
     "metadata": {},
     "output_type": "execute_result"
    }
   ],
   "source": [
    "# selection sort \n",
    "def selection_sort(arr):\n",
    "    for i in range(len(arr)-1):\n",
    "        for j in range(i+1,len(arr)):\n",
    "            if arr[j]<arr[i]:\n",
    "                arr[j],arr[i]=arr[i],arr[j]\n",
    "    return arr \n",
    "\n",
    "selection_sort([99,22,44,1,2,7,3,4,0])"
   ]
  },
  {
   "cell_type": "code",
   "execution_count": 16,
   "id": "38313298",
   "metadata": {},
   "outputs": [
    {
     "data": {
      "text/plain": [
       "[0, 1, 2, 3, 4, 7, 22, 44, 99]"
      ]
     },
     "execution_count": 16,
     "metadata": {},
     "output_type": "execute_result"
    }
   ],
   "source": [
    "# insertion sort\n",
    "def insertion_sort(arr):\n",
    "    for i in range(1,len(arr)):\n",
    "        current_element=arr[i]\n",
    "        correct_pos=i-1\n",
    "        while correct_pos>=0 and arr[correct_pos]>current_element:\n",
    "            arr[correct_pos+1]=arr[correct_pos]\n",
    "            correct_pos-=1\n",
    "        arr[correct_pos+1]=current_element\n",
    "    return arr \n",
    "\n",
    "insertion_sort([99,22,44,1,2,7,3,4,0])"
   ]
  },
  {
   "cell_type": "code",
   "execution_count": null,
   "id": "0282ce7b",
   "metadata": {},
   "outputs": [],
   "source": []
  }
 ],
 "metadata": {
  "kernelspec": {
   "display_name": "appliedML",
   "language": "python",
   "name": "python3"
  },
  "language_info": {
   "codemirror_mode": {
    "name": "ipython",
    "version": 3
   },
   "file_extension": ".py",
   "mimetype": "text/x-python",
   "name": "python",
   "nbconvert_exporter": "python",
   "pygments_lexer": "ipython3",
   "version": "3.10.16"
  }
 },
 "nbformat": 4,
 "nbformat_minor": 5
}
