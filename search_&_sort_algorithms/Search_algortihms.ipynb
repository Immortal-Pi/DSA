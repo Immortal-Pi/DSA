{
 "cells": [
  {
   "cell_type": "markdown",
   "id": "66ba046c",
   "metadata": {},
   "source": [
    "# Linear Search"
   ]
  },
  {
   "cell_type": "code",
   "execution_count": 3,
   "id": "0d17d8db",
   "metadata": {},
   "outputs": [],
   "source": [
    "def linear_search(my_list,target):\n",
    "    for index in range(len(my_list)):\n",
    "        if my_list[index]==target:\n",
    "            return index\n",
    "    return -1 "
   ]
  },
  {
   "cell_type": "code",
   "execution_count": 6,
   "id": "7c1319ab",
   "metadata": {},
   "outputs": [
    {
     "name": "stdout",
     "output_type": "stream",
     "text": [
      "4\n"
     ]
    }
   ],
   "source": [
    "my_list=[10,23,45,70,11]\n",
    "target=11\n",
    "result=linear_search(my_list,target)\n",
    "print(result)"
   ]
  },
  {
   "cell_type": "markdown",
   "id": "0aadcadd",
   "metadata": {},
   "source": [
    "# Binary Search"
   ]
  },
  {
   "cell_type": "code",
   "execution_count": null,
   "id": "df895b5f",
   "metadata": {},
   "outputs": [
    {
     "name": "stdout",
     "output_type": "stream",
     "text": [
      "[10, 23, 35, 45, 50, 70, 85]\n",
      "-1\n"
     ]
    }
   ],
   "source": [
    "input_list=[85,70,23,50,45,35,10]\n",
    "target=99\n",
    "\n",
    "\n",
    "def binary_search(input_list,target):\n",
    "    sorted_list=sorted(input_list)\n",
    "    print(sorted_list)\n",
    "\n",
    "    length=len(sorted_list)\n",
    "    start=0\n",
    "    end=length-1\n",
    "    \n",
    "    while start<=end:\n",
    "        mid=(start+end)//2\n",
    "\n",
    "        if sorted_list[mid]==target:\n",
    "            return mid \n",
    "        \n",
    "        elif target>sorted_list[mid]:\n",
    "            start=mid+1\n",
    "        elif target<sorted_list[mid]:\n",
    "            end=mid-1\n",
    "    \n",
    "    return -1\n",
    "\n",
    "\n",
    "result=binary_search(input_list,target)\n",
    "print(result)"
   ]
  },
  {
   "cell_type": "code",
   "execution_count": 10,
   "id": "4216e2d2",
   "metadata": {},
   "outputs": [
    {
     "name": "stdout",
     "output_type": "stream",
     "text": [
      "[10, 23, 35, 45, 50, 70, 85]\n"
     ]
    },
    {
     "data": {
      "text/plain": [
       "3"
      ]
     },
     "execution_count": 10,
     "metadata": {},
     "output_type": "execute_result"
    }
   ],
   "source": [
    "input_list=[85,70,23,50,45,35,10]\n",
    "target=45\n",
    "\n",
    "def binary_search(input_list,target):\n",
    "    sorted_list=sorted(input_list)\n",
    "    print(sorted_list)\n",
    "    length=len(sorted_list)\n",
    "    start=0\n",
    "    end=length-1\n",
    "    while start<=end:\n",
    "        mid=(start+end)//2\n",
    "        if target==sorted_list[mid]:\n",
    "            return mid \n",
    "        elif target>sorted_list[mid]:\n",
    "            start=mid+1\n",
    "        elif target<sorted_list[mid]:\n",
    "            end=mid-1\n",
    "    return -1\n",
    "\n",
    "binary_search(input_list,target)"
   ]
  },
  {
   "cell_type": "code",
   "execution_count": null,
   "id": "990fc8bd",
   "metadata": {},
   "outputs": [],
   "source": []
  }
 ],
 "metadata": {
  "kernelspec": {
   "display_name": "appliedML",
   "language": "python",
   "name": "python3"
  },
  "language_info": {
   "codemirror_mode": {
    "name": "ipython",
    "version": 3
   },
   "file_extension": ".py",
   "mimetype": "text/x-python",
   "name": "python",
   "nbconvert_exporter": "python",
   "pygments_lexer": "ipython3",
   "version": "3.10.16"
  }
 },
 "nbformat": 4,
 "nbformat_minor": 5
}
