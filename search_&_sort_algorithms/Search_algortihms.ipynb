{
 "cells": [
  {
   "cell_type": "markdown",
   "id": "66ba046c",
   "metadata": {},
   "source": [
    "# Linear Search"
   ]
  },
  {
   "cell_type": "code",
   "execution_count": 3,
   "id": "0d17d8db",
   "metadata": {},
   "outputs": [],
   "source": [
    "def linear_search(my_list,target):\n",
    "    for index in range(len(my_list)):\n",
    "        if my_list[index]==target:\n",
    "            return index\n",
    "    return -1 "
   ]
  },
  {
   "cell_type": "code",
   "execution_count": 6,
   "id": "7c1319ab",
   "metadata": {},
   "outputs": [
    {
     "name": "stdout",
     "output_type": "stream",
     "text": [
      "4\n"
     ]
    }
   ],
   "source": [
    "my_list=[10,23,45,70,11]\n",
    "target=11\n",
    "result=linear_search(my_list,target)\n",
    "print(result)"
   ]
  },
  {
   "cell_type": "markdown",
   "id": "0aadcadd",
   "metadata": {},
   "source": [
    "# Binary Search"
   ]
  },
  {
   "cell_type": "code",
   "execution_count": null,
   "id": "df895b5f",
   "metadata": {},
   "outputs": [
    {
     "name": "stdout",
     "output_type": "stream",
     "text": [
      "[10, 23, 35, 45, 50, 70, 85]\n",
      "-1\n"
     ]
    }
   ],
   "source": [
    "input_list=[85,70,23,50,45,35,10]\n",
    "target=99\n",
    "\n",
    "\n",
    "def binary_search(input_list,target):\n",
    "    sorted_list=sorted(input_list)\n",
    "    print(sorted_list)\n",
    "\n",
    "    length=len(sorted_list)\n",
    "    start=0\n",
    "    end=length-1\n",
    "    \n",
    "    while start<=end:\n",
    "        mid=(start+end)//2\n",
    "\n",
    "        if sorted_list[mid]==target:\n",
    "            return mid \n",
    "        \n",
    "        elif target>sorted_list[mid]:\n",
    "            start=mid+1\n",
    "        elif target<sorted_list[mid]:\n",
    "            end=mid-1\n",
    "    \n",
    "    return -1\n",
    "\n",
    "\n",
    "result=binary_search(input_list,target)\n",
    "print(result)"
   ]
  },
  {
   "cell_type": "code",
   "execution_count": 10,
   "id": "4216e2d2",
   "metadata": {},
   "outputs": [
    {
     "name": "stdout",
     "output_type": "stream",
     "text": [
      "[10, 23, 35, 45, 50, 70, 85]\n"
     ]
    },
    {
     "data": {
      "text/plain": [
       "3"
      ]
     },
     "execution_count": 10,
     "metadata": {},
     "output_type": "execute_result"
    }
   ],
   "source": [
    "input_list=[85,70,23,50,45,35,10]\n",
    "target=45\n",
    "\n",
    "def binary_search(input_list,target):\n",
    "    sorted_list=sorted(input_list)\n",
    "    print(sorted_list)\n",
    "    length=len(sorted_list)\n",
    "    start=0\n",
    "    end=length-1\n",
    "    while start<=end:\n",
    "        mid=(start+end)//2\n",
    "        if target==sorted_list[mid]:\n",
    "            return mid \n",
    "        elif target>sorted_list[mid]:\n",
    "            start=mid+1\n",
    "        elif target<sorted_list[mid]:\n",
    "            end=mid-1\n",
    "    return -1\n",
    "\n",
    "binary_search(input_list,target)"
   ]
  },
  {
   "cell_type": "code",
   "execution_count": null,
   "id": "990fc8bd",
   "metadata": {},
   "outputs": [
    {
     "name": "stdout",
     "output_type": "stream",
     "text": [
      "2 0 [3, 2, 1, -1] 4\n",
      "2 1 [3, 2, 1, -1] 4\n",
      "2 2 [3, 2, 1, -1] 4\n",
      "2 3 [3, 2, 1, -1] 4\n",
      "1 3 [1, 1, -1, -2] 5\n",
      "0 3 [4, 3, 2, 1] 6\n",
      "0 4 [4, 3, 2, 1] 6\n"
     ]
    },
    {
     "data": {
      "text/plain": [
       "6"
      ]
     },
     "execution_count": 72,
     "metadata": {},
     "output_type": "execute_result"
    }
   ],
   "source": [
    "# solution o(mlogn)\n",
    "# def countNegatives(grid):\n",
    "#     # Implement your solution here\n",
    "#     numbers=0\n",
    "#     for items in grid:\n",
    "#         start=0\n",
    "#         end=len(items)\n",
    "#         print(items)\n",
    "#         while start<end:\n",
    "#             mid=(start+end)//2\n",
    "#             if items[mid]<0:\n",
    "#                 end=mid\n",
    "#             else:\n",
    "#                 start=mid+1\n",
    "#         numbers+=len(items)-start\n",
    "#         print(numbers)\n",
    "#     return numbers        \n",
    "\n",
    "# alternate solution o(m+n)\n",
    "def countNegatives(grid):\n",
    "    \n",
    "    i = len(grid)-1\n",
    "    j = 0\n",
    "    count = 0\n",
    "    while i>=0 and j< len(grid[0]):\n",
    "        \n",
    "        if grid[i][j] < 0:\n",
    "            count +=len(grid[0])-j\n",
    "            i -= 1\n",
    "        else:\n",
    "            j +=1\n",
    "        print(i,j,grid[i],count)\n",
    "    return(count)\n",
    "\n",
    "countNegatives([[4, 3, 2, 1],  [1, 1, -1, -2],[3, 2, 1, -1], [-1, -1, -2, -3]])\n"
   ]
  },
  {
   "cell_type": "code",
   "execution_count": 73,
   "id": "7f6fb342",
   "metadata": {},
   "outputs": [
    {
     "name": "stdout",
     "output_type": "stream",
     "text": [
      "1\n"
     ]
    },
    {
     "data": {
      "text/plain": [
       "'j'"
      ]
     },
     "execution_count": 73,
     "metadata": {},
     "output_type": "execute_result"
    }
   ],
   "source": [
    "def next_greatest_letter(letters, target):\n",
    " \n",
    "    # Implement the function logic\n",
    "    start=0\n",
    "    end=len(letters)-1\n",
    "    while start<=end:\n",
    "        mid=(start+end)//2\n",
    "        print(mid)\n",
    "        if letters[mid]==target:\n",
    "            return letters[mid+1]\n",
    "        elif letters[mid]>target:\n",
    "            end=mid-1\n",
    "            print(start,mid,end)\n",
    "        else:\n",
    "            start=mid+1\n",
    "    return letters[0]\n",
    "\n",
    "\n",
    "\n",
    "next_greatest_letter(['c', 'f', 'j'],'f')"
   ]
  },
  {
   "cell_type": "markdown",
   "id": "5605ca07",
   "metadata": {},
   "source": [
    "# product of array except self"
   ]
  },
  {
   "cell_type": "code",
   "execution_count": null,
   "id": "7f11e411",
   "metadata": {},
   "outputs": [
    {
     "name": "stdout",
     "output_type": "stream",
     "text": [
      "[24, 12, 8, 6]\n"
     ]
    }
   ],
   "source": [
    "#product of array except self\n",
    "# solution O(n^2) time brutforce  \n",
    "class Solution(object):\n",
    "    def productExceptSelf(self, nums):\n",
    "        sol=[]\n",
    "        for i in range(len(nums)):\n",
    "            product=1\n",
    "            for j in range(len(nums)):\n",
    "                if i!=j:\n",
    "                    product*=nums[j]\n",
    "            sol.append(product)\n",
    "        print(sol) \n",
    "\n",
    "Solution().productExceptSelf([1,2,3,4])"
   ]
  },
  {
   "cell_type": "code",
   "execution_count": null,
   "id": "21100362",
   "metadata": {},
   "outputs": [],
   "source": [
    "# Solution 0(n)"
   ]
  },
  {
   "cell_type": "code",
   "execution_count": null,
   "id": "5ba5daaa",
   "metadata": {},
   "outputs": [
    {
     "name": "stdout",
     "output_type": "stream",
     "text": [
      "[1, 1, 2, 6]\n"
     ]
    },
    {
     "data": {
      "text/plain": [
       "[24, 12, 8, 6]"
      ]
     },
     "execution_count": 104,
     "metadata": {},
     "output_type": "execute_result"
    }
   ],
   "source": [
    "# Solution 0(n)\n",
    "class Solution(object):\n",
    "    def productExceptSelf(self, nums):\n",
    "        left=1\n",
    "        n=len(nums)\n",
    "        res=[1]*n\n",
    "        for i in range(n):\n",
    "            res[i]=left\n",
    "            left*=nums[i]\n",
    "        print(res)\n",
    "        right=1\n",
    "        for i in range(n-1,-1,-1):\n",
    "            res[i]*=right\n",
    "            right*=nums[i]\n",
    "        return res        \n",
    "Solution().productExceptSelf([1,2,3,4])"
   ]
  },
  {
   "cell_type": "markdown",
   "id": "f663a186",
   "metadata": {},
   "source": [
    "# find first and last positoin of element in sorted array"
   ]
  },
  {
   "cell_type": "code",
   "execution_count": 12,
   "id": "2535f29e",
   "metadata": {},
   "outputs": [
    {
     "data": {
      "text/plain": [
       "[1, 2]"
      ]
     },
     "execution_count": 12,
     "metadata": {},
     "output_type": "execute_result"
    }
   ],
   "source": [
    "def searchRange(nums,target):\n",
    "    def search(nums,target,findFirst):\n",
    "        start=0\n",
    "        end=len(nums)-1\n",
    "        ans=-1\n",
    "        while start<=end:\n",
    "            mid=(start+end)//2\n",
    "            if nums[mid]>target:\n",
    "                end=mid-1\n",
    "            elif nums[mid]<target:\n",
    "                start=mid+1\n",
    "            else:\n",
    "                ans=mid\n",
    "                if findFirst:\n",
    "                    end=mid-1\n",
    "                else:\n",
    "                    start=mid+1\n",
    "        return ans\n",
    "    return [search(nums,target,True),search(nums,target,False)]\n",
    "\n",
    "\n",
    "\n",
    "\n",
    "searchRange([1, 7,7, 8,8,8,8,9,9,10],7)"
   ]
  },
  {
   "cell_type": "code",
   "execution_count": null,
   "id": "e1841f1c",
   "metadata": {},
   "outputs": [],
   "source": [
    "# searc"
   ]
  }
 ],
 "metadata": {
  "kernelspec": {
   "display_name": "appliedML",
   "language": "python",
   "name": "python3"
  },
  "language_info": {
   "codemirror_mode": {
    "name": "ipython",
    "version": 3
   },
   "file_extension": ".py",
   "mimetype": "text/x-python",
   "name": "python",
   "nbconvert_exporter": "python",
   "pygments_lexer": "ipython3",
   "version": "3.10.16"
  }
 },
 "nbformat": 4,
 "nbformat_minor": 5
}
