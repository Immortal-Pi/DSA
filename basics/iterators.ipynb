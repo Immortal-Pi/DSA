{
 "cells": [
  {
   "cell_type": "markdown",
   "id": "9d35b16a",
   "metadata": {},
   "source": [
    "# Iterators\n",
    "Advance python concept that allow for efficient looping and memory management. Iterators provide a way to access elements of a collection sequentially without exposing the underlying structure"
   ]
  },
  {
   "cell_type": "code",
   "execution_count": 95,
   "id": "4c117651",
   "metadata": {},
   "outputs": [
    {
     "name": "stdout",
     "output_type": "stream",
     "text": [
      "1\n",
      "2\n",
      "3\n",
      "4\n",
      "5\n"
     ]
    }
   ],
   "source": [
    "my_list=[1,2,3,4,5]\n",
    "for i in my_list:\n",
    "    print(i)"
   ]
  },
  {
   "cell_type": "code",
   "execution_count": 8,
   "id": "72389b44",
   "metadata": {},
   "outputs": [
    {
     "name": "stdout",
     "output_type": "stream",
     "text": [
      "<class 'list'> [1, 2, 3, 4, 5]\n"
     ]
    }
   ],
   "source": [
    "print(type(my_list), my_list)"
   ]
  },
  {
   "cell_type": "code",
   "execution_count": 96,
   "id": "e55a2ce0",
   "metadata": {},
   "outputs": [
    {
     "name": "stdout",
     "output_type": "stream",
     "text": [
      "<class 'list_iterator'> <list_iterator object at 0x0000020382A974C0>\n"
     ]
    }
   ],
   "source": [
    "##iterator \n",
    "iterator=iter(my_list)\n",
    "print(type(iterator),iterator)"
   ]
  },
  {
   "cell_type": "code",
   "execution_count": 97,
   "id": "36eba774",
   "metadata": {},
   "outputs": [
    {
     "name": "stdout",
     "output_type": "stream",
     "text": [
      "1\n"
     ]
    }
   ],
   "source": [
    "try:\n",
    "    print(next(iterator))\n",
    "except StopIteration:\n",
    "    print('there are no more elements')"
   ]
  },
  {
   "cell_type": "code",
   "execution_count": 98,
   "id": "d3664281",
   "metadata": {},
   "outputs": [],
   "source": [
    "# string iterators\n",
    "my_string='Hello'\n",
    "string_iterator=iter(my_string)\n"
   ]
  },
  {
   "cell_type": "code",
   "execution_count": 99,
   "id": "bd5bd9ce",
   "metadata": {},
   "outputs": [
    {
     "name": "stdout",
     "output_type": "stream",
     "text": [
      "H\n",
      "e\n"
     ]
    }
   ],
   "source": [
    "print(next(string_iterator))\n",
    "print(next(string_iterator))"
   ]
  },
  {
   "cell_type": "markdown",
   "id": "bddebb1d",
   "metadata": {},
   "source": [
    "# Generators\n",
    "Generators are a simpler way to create iterators. They use the yield keyword to produce a series of values lazily, which means they generate values on the fly and do not stire them in memory"
   ]
  },
  {
   "cell_type": "code",
   "execution_count": 43,
   "id": "711cf3ad",
   "metadata": {},
   "outputs": [
    {
     "data": {
      "text/plain": [
       "<generator object square at 0x0000020383E5B370>"
      ]
     },
     "execution_count": 43,
     "metadata": {},
     "output_type": "execute_result"
    }
   ],
   "source": [
    "def square(n):\n",
    "    for i in range(3):\n",
    "        yield i**2 \n",
    "    \n",
    "square(3)"
   ]
  },
  {
   "cell_type": "code",
   "execution_count": 44,
   "id": "defd3af9",
   "metadata": {},
   "outputs": [
    {
     "name": "stdout",
     "output_type": "stream",
     "text": [
      "0\n",
      "1\n",
      "4\n"
     ]
    }
   ],
   "source": [
    "for i in square(3):\n",
    "    print(i)"
   ]
  },
  {
   "cell_type": "code",
   "execution_count": 50,
   "id": "c0e191f7",
   "metadata": {},
   "outputs": [],
   "source": [
    "# other way of iterating \n",
    "a=square(3)"
   ]
  },
  {
   "cell_type": "code",
   "execution_count": 51,
   "id": "a6917e84",
   "metadata": {},
   "outputs": [
    {
     "data": {
      "text/plain": [
       "0"
      ]
     },
     "execution_count": 51,
     "metadata": {},
     "output_type": "execute_result"
    }
   ],
   "source": [
    "next(a)"
   ]
  },
  {
   "cell_type": "code",
   "execution_count": 52,
   "id": "6e49bfda",
   "metadata": {},
   "outputs": [],
   "source": [
    "def my_generator():\n",
    "    yield 1 \n",
    "    yield 2\n",
    "    yield 3"
   ]
  },
  {
   "cell_type": "code",
   "execution_count": 58,
   "id": "e42b2e59",
   "metadata": {},
   "outputs": [
    {
     "data": {
      "text/plain": [
       "<generator object my_generator at 0x0000020383E26DC0>"
      ]
     },
     "execution_count": 58,
     "metadata": {},
     "output_type": "execute_result"
    }
   ],
   "source": [
    "gen=my_generator()\n",
    "gen "
   ]
  },
  {
   "cell_type": "code",
   "execution_count": 59,
   "id": "12b9564b",
   "metadata": {},
   "outputs": [
    {
     "data": {
      "text/plain": [
       "1"
      ]
     },
     "execution_count": 59,
     "metadata": {},
     "output_type": "execute_result"
    }
   ],
   "source": [
    "next(gen)"
   ]
  },
  {
   "cell_type": "code",
   "execution_count": 60,
   "id": "694e7d45",
   "metadata": {},
   "outputs": [
    {
     "name": "stdout",
     "output_type": "stream",
     "text": [
      "2\n",
      "3\n"
     ]
    }
   ],
   "source": [
    "for val in gen:\n",
    "    print(val)"
   ]
  },
  {
   "cell_type": "markdown",
   "id": "99caff14",
   "metadata": {},
   "source": [
    "## practical example of generators :- reading large files"
   ]
  },
  {
   "cell_type": "code",
   "execution_count": 78,
   "id": "5eec6c03",
   "metadata": {},
   "outputs": [],
   "source": [
    "def read_large_file(file_path):\n",
    "    with open(file_path,'r') as file:\n",
    "        for line in file:\n",
    "            yield line"
   ]
  },
  {
   "cell_type": "code",
   "execution_count": 68,
   "id": "b1aab278",
   "metadata": {},
   "outputs": [
    {
     "name": "stdout",
     "output_type": "stream",
     "text": [
      "The Illuminati (/əˌluːmɪˈnɑːti/; plural of Latin illuminatus, 'enlightened') is a name given to several groups, both real and fictitious. Historically, the name usually refers to the Bavarian Illuminati, an Enlightenment-era secret society founded on 1 May 1776 in the Electorate of Bavaria. The society's stated goals were to oppose superstition, obscurantism, religious influence over public life, and abuses of state power. \"The order of the day,\" they wrote in their general statutes, \"is to put an end to the machinations of the purveyors of injustice, to control them without dominating them.\"[1]\n",
      "\n",
      "The Illuminati—along with Freemasonry and other secret societies—were outlawed through edict by Charles Theodore, Elector of Bavaria, with the encouragement of the Catholic Church, in 1784, 1785, 1787 and 1790.[2] During subsequent years, the group was generally vilified by conservative and religious critics who claimed that the Illuminati continued underground and were responsible for the French Revolution. It attracted literary men such as Johann Wolfgang von Goethe and Johann Gottfried Herder and the reigning Duke of Gotha and of Weimar.[3]\n",
      "\n",
      "In subsequent use, \"Illuminati\" has been used when referring to various organisations which are alleged to be a continuation of the original Bavarian Illuminati (though these links have not been substantiated). These organisations have often been accused of conspiring to control world affairs, by masterminding events and planting agents in governments and corporations, in order to gain political power, influence and to establish a New World Order. Central to some of the more widely known and elaborate conspiracy theories, the Illuminati are depicted as lurking in the shadows and pulling the strings and levers of power. This view of the Illuminati has found its way into popular culture, appearing in dozens of novels, films, television shows, comics, video games and music videos.\n",
      "\n",
      "History\n",
      "Origins\n",
      "\n",
      "Adam Weishaupt (1748–1830), founder of the Illuminati\n",
      "\n",
      "The Owl of Minerva perched on a book was an emblem used by the Bavarian Illuminati in their \"Minerval\" degree.\n",
      "Adam Weishaupt (1748–1830) became professor of Canon Law and practical philosophy at the University of Ingolstadt in 1773. He was the only non-clerical professor at an institution run by Jesuits, whose order Pope Clement XIV had dissolved in 1773. The Jesuits of Ingolstadt, however, still retained the purse strings and some power at the university, which they continued to regard as their own. They made constant attempts to frustrate and discredit non-clerical staff, especially when course material contained anything they regarded as liberal or Protestant. Weishaupt became deeply anti-clerical, resolving to spread the ideals of the Enlightenment (Aufklärung) through some sort of secret society of like-minded individuals.[4]\n",
      "\n",
      "Finding Freemasonry expensive, and not open to his ideas, he founded his own society which was to have a system of ranks or grades based on those in Freemasonry, but with his own agenda.[4] His original name for the new order was Bund der Perfektibilisten, or Covenant of Perfectibility (Perfectibilists); he later changed it because it sounded too strange.[5] On 1 May 1776, Weishaupt and four students formed the Perfectibilists, taking the Owl of Minerva as their symbol.[6][7] The members were to use aliases within the society. Weishaupt became Spartacus.[8] Law students Massenhausen, Bauhof, Merz and Sutor became respectively Ajax, Agathon, Tiberius and Erasmus Roterodamus. Weishaupt later expelled Sutor for indolence.[9][10] In April 1778, the order became the Illuminatenorden, or Order of Illuminati, after Weishaupt had seriously contemplated the name Bee order.[11]\n",
      "\n",
      "Massenhausen proved initially the most active in expanding the society. Significantly, while studying in Munich shortly after the formation of the order, he recruited Xavier von Zwack [de], a former pupil of Weishaupt, at the beginning of Zwack's significant administrative career. (At the time, he was in charge of the Bavarian National Lottery.) Massenhausen's enthusiasm soon became a liability in the eyes of Weishaupt, often resulting in attempts to recruit unsuitable candidates. Later, his erratic love-life made him neglectful, and as Weishaupt passed control of the Munich group to Zwack, it became clear that Massenhausen had misappropriated subscriptions and intercepted correspondence between Weishaupt and Zwack. In 1778, Massenhausen graduated and took a post outside Bavaria, taking no further interest in the order. At this time, the order had a nominal membership of twelve.[9]\n",
      "\n",
      "With the departure of Massenhausen, Zwack immediately applied himself to recruiting more mature and important recruits. Most prized by Weishaupt was Hertel, a childhood friend and a canon of the Munich Frauenkirche. By the end of summer 1778 the order had 27 members (still counting Massenhausen) in 5 commands; Munich (Athens), Ingolstadt (Eleusis), Ravensberg (Sparta), Freysingen (Thebes), and Eichstaedt (Erzurum).[9]\n",
      "\n",
      "During this early period, the order had three grades of Novice, Minerval and Illuminated Minerval, of which only the Minerval grade involved a complicated ceremony. In this the candidate was given secret signs and a password. A system of mutual espionage kept Weishaupt informed of the activities and character of all his members, his favourites becoming members of the ruling council, or Areopagus. Some novices were permitted to recruit, becoming Insinuants. Christians of good character were actively sought, with Jews and pagans specifically excluded, along with women, monks and members of other secret societies. Favoured candidates were rich, docile, willing to learn and aged 18–30.[12][13]\n",
      "\n",
      "Transition\n",
      "Having, with difficulty, dissuaded some of his members from joining the Freemasons, Weishaupt decided to join the older order to acquire material to expand his own ritual. He was admitted to lodge \"Prudence\" of the Rite of Strict Observance early in February 1777. His progress through the three degrees of \"blue lodge\" masonry taught him nothing of the higher degrees he sought to exploit, but in the following year a priest called Abbé Marotti informed Zwack that these inner secrets rested on knowledge of the older religion and the primitive church. Zwack persuaded Weishaupt that their own order should enter into friendly relations with Freemasonry and obtain the dispensation to set up their own lodge. At this stage (December 1778), the addition of the first three degrees of Freemasonry was seen as a secondary project.[14]\n",
      "\n",
      "With little difficulty, a warrant was obtained from the Grand Lodge of Prussia called the Royal York for Friendship, and the new lodge was called Theodore of the Good Council with the intention of flattering Charles Theodore, Elector of Bavaria. It was founded in Munich on 21 March 1779 and quickly packed with Illuminati. The first master, a man called Radl, was persuaded to return home to Baden and by July Weishaupt's order ran the lodge.[14]\n",
      "\n",
      "The next step involved independence from their Grand Lodge. By establishing masonic relations with the Union lodge in Frankfurt, affiliated to the Premier Grand Lodge of England, lodge Theodore became independently recognised and able to declare its independence. As a new mother lodge, it could now spawn lodges of its own. The recruiting drive amongst the Frankfurt masons also obtained the allegiance of Adolph Freiherr Knigge.[14]\n",
      "\n",
      "Reform\n",
      "Adolph Knigge\n",
      "\n",
      "Adolph Freiherr Knigge, the most effective recruiter for the Illuminati\n",
      "Knigge was recruited late in 1780 at a convention of the Rite of Strict Observance by Costanzo Marchese di Costanzo, an infantry captain in the Bavarian army and a fellow Freemason. Knigge, still in his twenties, had already reached the highest initiatory grades of his order and had arrived with his own grand plans for its reform. Disappointed that his scheme found no support, Knigge was immediately intrigued when Costanzo informed him that the order that he sought to create already existed. Knigge and three of his friends expressed a strong interest in learning more of this order and Costanzo showed them material relating to the Minerval grade. The teaching material for the grade was \"liberal\" literature which was banned in Bavaria, but common knowledge in the Protestant German states. Knigge's three companions became disillusioned and had no more to do with Costanzo, but Knigge's persistence was rewarded in November 1780 by a letter from Weishaupt. Knigge's connections, both within and outside of Freemasonry, made him an ideal recruit. Knigge, for his own part, was flattered by the attention and drawn towards the order's stated aims of education and the protection of mankind from despotism. Weishaupt managed to acknowledge, and pledge to support, Knigge's interest in alchemy and the \"higher sciences\". Knigge replied to Weishaupt outlining his plans for the reform of Freemasonry as the Strict Observance began to question its own origins.[15]\n",
      "\n",
      "Weishaupt set Knigge the task of recruiting before he could be admitted to the higher grades of the order. Knigge accepted, on the condition that he be allowed to choose his own recruiting grounds. Many other masons found Knigge's description of the new masonic order attractive and were enrolled in the Minerval grade of the Illuminati. Knigge appeared at this time to believe in the \"Most Serene Superiors\" which Weishaupt claimed to serve. His inability to articulate anything about the higher degrees of the order became increasingly embarrassing, but in delaying any help, Weishaupt gave him an extra task. Provided with material by Weishaupt, Knigge now produced pamphlets outlining the activities of the outlawed Jesuits, purporting to show how they continued to thrive and recruit, especially in Bavaria. Meanwhile, Knigge's inability to give his recruits any satisfactory response to questions regarding the higher grades was making his position untenable and he wrote to Weishaupt to this effect. In January 1781, faced with the prospect of losing Knigge and his masonic recruits, Weishaupt finally confessed that his superiors and the supposed antiquity of the order were fictions and the higher degrees had yet to be written.[15]\n",
      "\n",
      "If Knigge had expected to learn the promised deep secrets of Freemasonry in the higher degrees of the Illuminati, he was surprisingly calm about Weishaupt's revelation. Weishaupt promised Knigge a free hand in the creation of the higher degrees and also promised to send him his own notes. For his own part, Knigge welcomed the opportunity to use the order as a vehicle for his own ideas. His new approach would, he claimed, make the Illuminati more attractive to prospective members in the Protestant princedoms of Germany. In November 1781 the Areopagus advanced Knigge 50 florins to travel to Bavaria, which he did via Swabia and Franconia, meeting and enjoying the hospitality of other Illuminati on his journey.[16]\n",
      "\n",
      "Internal problems\n",
      "The order had now developed profound internal divisions. In July 1780, the Eichstaedt command had formed an autonomous province and a rift was growing between Weishaupt and the Areopagus, who found him stubborn, dictatorial, and inconsistent. Knigge fitted readily into the role of peacemaker.[16]\n",
      "\n",
      "In discussions with the Areopagus and Weishaupt, Knigge identified two areas which were problematic. Weishaupt's emphasis on the recruitment of university students meant that senior positions in the order often had to be filled by young men with little practical experience. Secondly, the anti-Jesuit ethos of the order at its inception had become a general anti-religious sentiment, which Knigge knew would be a problem in recruiting the senior Freemasons that the order now sought to attract. Knigge felt keenly the stifling grip of conservative Catholicism in Bavaria and understood the anti-religious feelings that this produced in the liberal Illuminati, but he also saw the negative impression these same feelings would engender in Protestant states, inhibiting the spread of the order in greater Germany. Both the Areopagus and Weishaupt felt powerless to do anything less than give Knigge a free hand. He had the contacts within and outside of Freemasonry that they needed and he had the skill as a ritualist to build their projected gradal structure, where they had ground to a halt at Illuminatus Minor, with only the Minerval grade below and the merest sketches of higher grades. The only restrictions imposed were the need to discuss the inner secrets of the highest grades and the necessity of submitting his new grades for approval.[16]\n",
      "\n",
      "Meanwhile, the scheme to propagate Illuminatism as a legitimate branch of Freemasonry had stalled. While Lodge Theodore was now in their control, a chapter of \"Elect Masters\" attached to it only had one member from the order and still had a constitutional superiority to the craft lodge controlled by the Illuminati. The chapter would be difficult to persuade to submit to the Areopagus and formed a very real barrier to Lodge Theodore becoming the first mother-lodge of a new Illuminated Freemasonry. A treaty of alliance was signed between the order and the chapter and by the end of January 1781 four daughter lodges had been created, but independence was not in the chapter's agenda.[16]\n",
      "\n",
      "Costanza wrote to the Royal York pointing out the discrepancy between the fees dispatched to their new Grand Lodge and the service they had received in return. The Royal York, unwilling to lose the revenue, offered to confer the \"higher\" secrets of Freemasonry on a representative that their Munich brethren would dispatch to Berlin. Costanza accordingly set off for Prussia on 4 April 1780, with instructions to negotiate a reduction in Theodore's fees while he was there. On the way, he managed to have an argument with a Frenchman on the subject of a lady with whom they were sharing a carriage. The Frenchman sent a message ahead to the king, some time before they reached Berlin, denouncing Costanza as a spy. He was only freed from prison with the help of the Grand Master of Royal York and was expelled from Prussia having accomplished nothing.[16]\n",
      "\n",
      "New system\n",
      "Knigge's initial plan to obtain a constitution from London would, they realised, have been seen through by the chapter. Until such time as they could take over other masonic lodges that their chapter could not control, they were for the moment content to rewrite the three degrees for the lodges which they administered.[16]\n",
      "\n",
      "On 20 January 1782, Knigge tabulated his new system of grades for the order. These were arranged in three classes:\n",
      "\n",
      "Class I – The nursery, consisting of the Noviciate, the Minerval and Illuminatus minor.\n",
      "Class II – The Masonic grades. The three \"blue lodge\" grades of Apprentice, Companion and Master were separated from the higher \"Scottish\" grades of Scottish Novice and Scottish Knight.\n",
      "Class III – The Mysteries. The lesser mysteries were the grades of Priest and Prince, followed by the greater mysteries in the grades of Mage and King. It is unlikely that the rituals for the greater mysteries were ever written.[16][17]\n",
      "Attempts at expansion\n",
      "Knigge's recruitment from German Freemasonry was far from random. He targeted the masters and wardens, the men who ran the lodges, and were often able to place the entire lodge at the disposal of the Illuminati. In Aachen, Baron de Witte, master of Constancy lodge, caused every member to join the order. In this way, the order expanded rapidly in central and southern Germany and obtained a foothold in Austria. Moving into the Spring of 1782, the handful of students that had started the order had swelled to about 300 members, only 20 of the new recruits being students.[18]\n",
      "\n",
      "In Munich, the first half of 1782 saw huge changes in the government of Lodge Theodore. In February, Weishaupt had offered to split the lodge, with the Illuminati going their own way and the chapter taking any remaining traditionalists into their own continuation of Theodore. At this point, the chapter unexpectedly capitulated and the Illuminati had complete control of lodge and chapter. In June, both lodge and chapter sent letters severing relations with Royal York, citing their own faithfulness in paying for their recognition and Royal York's failure to provide any instruction into the higher grades. Their neglect of Costanza, failure to defend him from malicious charges or prevent his expulsion from Prussia, were also cited. They had made no effort to provide Costanza with the promised secrets and the Munich masons now suspected that their brethren in Berlin relied on the mystical French higher grades which they sought to avoid. Lodge Theodore was now independent.[18]\n",
      "\n",
      "The Rite of Strict Observance was now in a critical state. Its nominal leader was Prince Carl of Södermanland (later Charles XIII of Sweden), openly suspected of trying to absorb the rite into the Swedish Rite, which he already controlled. The German lodges looked for leadership to Duke Ferdinand of Brunswick-Wolfenbüttel. Suspicion turned to open contempt when it transpired that Carl regarded the Stuart heir to the British throne as the true Grand Master and the lodges of the Strict Observance all but ignored their Grand Master. This impasse led to the Convent of Wilhelmsbad.[18]\n",
      "\n",
      "Convent of Wilhelmsbad\n",
      "\n",
      "\"Ruined\" castle built by Prince Charles of Hesse-Kassel in the park at Wilhelmsbad, venue for the last convent of the Strict Observance\n",
      "Delayed from 15 October 1781, the last convention of the Strict Observance finally opened on 16 July 1782 in the spa town of Wilhelmsbad on the outskirts of (now part of) Hanau. Ostensibly a discussion of the future of the order, the 35 delegates knew that the Strict Observance in its current form was doomed, and that the Convent of Wilhelmsbad would be a struggle over the pieces between the German mystics, under Duke Ferdinand of Brunswick-Wolfenbüttel and their host Prince Charles of Hesse-Kassel, and the Martinists, under Jean-Baptiste Willermoz. The only dissenting voices to mystical higher grades were Johann Joachim Christoph Bode, who was horrified by Martinism, but whose proposed alternatives were as yet unformed, and Franz Dietrich von Ditfurth, a judge from Wetzlar and master of the Joseph of the Three Helmets lodge there, who was already a member of the Illuminati. Ditfurth publicly campaigned for a return to the basic three degrees of Freemasonry, which was the least likely outcome of the convention. The mystics already had coherent plans to replace the higher degrees.[18]\n",
      "\n",
      "The lack of a coherent alternative to the two strains of mysticism allowed the Illuminati to present themselves as a credible option. Ditfurth, prompted and assisted by Knigge, who now had full authority to act for the order, became their spokesman. Knigge's original plan to propose an alliance between the two orders was rejected by Weishaupt, who saw no point in an alliance with a dying order. His new plan was to recruit the masons opposed to the \"Templar\" higher degree of the Strict Observance.[18]\n",
      "\n",
      "At the convent, Ditfurth blocked the attempts of Willermoz and Hesse to introduce their own higher grades by insisting that full details of such degrees be revealed to the delegates. The frustration of the German mystics led to their enrolling Count Kollowrat with the Illuminati with a view to later affiliation. Ditfurth's own agenda was to replace all of the higher degrees with a single fourth degree, with no pretensions to further masonic revelations. Finding no support for his plan, he left the convent prematurely, writing to the Areopagus that he expected nothing good of the assembly.[18]\n",
      "\n",
      "In an attempt to satisfy everybody, the Convent of Wilhelmsbad achieved little. They renounced the Templar origins of their ritual, while retaining the Templar titles, trappings and administrative structure. Charles of Hesse and Ferdinand of Brunswick remained at the head of the order, but in practice the lodges were almost independent. The Germans also adopted the name of the French order of Willermoz, les Chevaliers bienfaisants de la Cité sainte (Good Knights of the Holy City), and some Martinist mysticism was imported into the first three degrees, which were now the only essential degrees of Freemasonry. Crucially, individual lodges of the order were now allowed to fraternise with lodges of other systems. The new \"Scottish Grade\" introduced with the Lyon ritual of Willermoz was not compulsory, each province and prefecture was free to decide what, if anything, happened after the three craft degrees. Finally, in an effort to show that something had been achieved, the convent regulated at length on etiquette, titles and a new numbering for the provinces.[18]\n",
      "\n",
      "Aftermath of Wilhelmsbad\n",
      "What the Convent of Wilhelmsbad actually achieved was the demise of the Strict Observance. It renounced its own origin myth, along with the higher degrees which bound its highest and most influential members. It abolished the strict control which had kept the order united and alienated many Germans who mistrusted Martinism. Bode, who was repelled by Martinism, immediately entered negotiations with Knigge and finally joined the Illuminati in January 1783. Charles of Hesse joined the following month.[18]\n",
      "\n",
      "Knigge's first efforts at an alliance with the intact German Grand Lodges failed, but Weishaupt persisted. He proposed a new federation where all of the German lodges would practise an agreed, unified system in the essential three degrees of Freemasonry and be left to their own devices as to which, if any, system of higher degrees they wished to pursue. This would be a federation of Grand Lodges and members would be free to visit any of the \"blue\" lodges, in any jurisdiction. All lodge masters would be elected and no fees would be paid to any central authority whatsoever. Groups of lodges would be subject to a \"Scottish Directorate\", composed of members delegated by lodges, to audit finances, settle disputes and authorise new lodges. These in turn would elect Provincial Directorates, who would elect inspectors, who would elect the national director. This system would correct the current imbalance in German Freemasonry, where masonic ideals of equality were preserved only in the lower three \"symbolic\" degrees. The various systems of higher degrees were dominated by the elite who could afford researches in alchemy and mysticism. To Weishaupt and Knigge, the proposed federation was also a vehicle to propagate Illuminism throughout German Freemasonry. Their intention was to use their new federation, with its emphasis on the fundamental degrees, to remove all allegiance to Strict Observance, allowing the \"eclectic\" system of the Illuminati to take its place.[18]\n",
      "\n",
      "The circular announcing the new federation outlined the faults of German freemasonry, that unsuitable men with money were often admitted on the basis of their wealth, that the corruption of civil society had infected the lodges. Having advocated the deregulation of the higher grades of the German lodges, the Illuminati now announced their own, from their \"unknown Superiors\". Lodge Theodore, newly independent from Royal York, set themselves up as a provincial Grand Lodge. Knigge, in a letter to all the Royal York lodges, now accused that Grand Lodge of decadence. Their Freemasonry had allegedly been corrupted by the Jesuits. Strict Observance was now attacked as a creation of the Stuarts, devoid of all moral virtue. The Zinnendorf rite of the Grand Landlodge of the Freemasons of Germany was suspect because its author was in league with the Swedes. This direct attack had the opposite effect to that intended by Weishaupt, it offended many of its readers. The Grand Lodge of the Grand Orient of Warsaw, which controlled Freemasonry in Poland and Lithuania, was happy to participate in the federation only as far as the first three degrees. Their insistence on independence had kept them from the Strict Observance and would now keep them from the Illuminati, whose plan to annex Freemasonry rested on their own higher degrees. By the end of January 1783 the Illuminati's masonic contingent had seven lodges.[18]\n",
      "\n",
      "It was not only the clumsy appeal of the Illuminati that left the federation short of members. Lodge Theodore was recently formed and did not command respect like the older lodges. Most of all, the Freemasons most likely to be attracted to the federation saw the Illuminati as an ally against the mystics and Martinists, but valued their own freedom too highly to be caught in another restrictive organisation. Even Ditfurth, the supposed representative of the Illuminati at Wilhelmsbad, had pursued his own agenda at the convent.[18]\n",
      "\n",
      "The non-mystical Frankfurt lodges created an \"Eclectic Alliance\", which was almost indistinguishable in constitution and aims from the Illuminati's federation. Far from seeing this as a threat, after some discussion the Illuminati lodges joined the new alliance. Three Illuminati now sat on the committee charged with writing the new masonic statutes. Aside from strengthening relations between their three lodges, the Illuminati seem to have gained no advantage from this manoeuvre. Ditfurth, having found a masonic organisation that worked towards his own ambitions for Freemasonry, took little interest in the Illuminati after his adherence to the Eclectic Alliance. In reality, the creation of the Eclectic Alliance had undermined all of the subtle plans of the Illuminati to spread their own doctrine through Freemasonry.[18]\n"
     ]
    }
   ],
   "source": [
    "file_path='large_file.txt'\n",
    "\n",
    "for line in read_large_file(file_path):\n",
    "    print(line.strip())"
   ]
  },
  {
   "cell_type": "code",
   "execution_count": 83,
   "id": "f5a285f2",
   "metadata": {},
   "outputs": [],
   "source": [
    "gen=read_large_file(file_path)\n"
   ]
  },
  {
   "cell_type": "code",
   "execution_count": 91,
   "id": "f07159b7",
   "metadata": {},
   "outputs": [
    {
     "data": {
      "text/plain": [
       "'History\\n'"
      ]
     },
     "execution_count": 91,
     "metadata": {},
     "output_type": "execute_result"
    }
   ],
   "source": [
    "next(gen)"
   ]
  },
  {
   "cell_type": "code",
   "execution_count": null,
   "id": "d824d704",
   "metadata": {},
   "outputs": [],
   "source": []
  }
 ],
 "metadata": {
  "kernelspec": {
   "display_name": "appliedML",
   "language": "python",
   "name": "python3"
  },
  "language_info": {
   "codemirror_mode": {
    "name": "ipython",
    "version": 3
   },
   "file_extension": ".py",
   "mimetype": "text/x-python",
   "name": "python",
   "nbconvert_exporter": "python",
   "pygments_lexer": "ipython3",
   "version": "3.10.16"
  }
 },
 "nbformat": 4,
 "nbformat_minor": 5
}
