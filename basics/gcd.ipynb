{
 "cells": [
  {
   "cell_type": "code",
   "execution_count": 9,
   "id": "09897ccc",
   "metadata": {},
   "outputs": [],
   "source": [
    "class Solution:\n",
    "    def gcdOfStrings(self, str1: str, str2: str) -> str:\n",
    "        if str1+str2!=str2+str1:\n",
    "            return ''\n",
    "        def compute_gcd(a,b):\n",
    "            while b!=0:\n",
    "                print(a,b)\n",
    "                a,b=b,a%b\n",
    "                print(a,b,'\\n')\n",
    "            return a \n",
    "        gcd_len=compute_gcd(len(str1),len(str2))\n",
    "        return str1[:gcd_len]\n"
   ]
  },
  {
   "cell_type": "code",
   "execution_count": 15,
   "id": "005151a3",
   "metadata": {},
   "outputs": [
    {
     "name": "stdout",
     "output_type": "stream",
     "text": [
      "21 12\n",
      "12 9 \n",
      "\n",
      "12 9\n",
      "9 3 \n",
      "\n",
      "9 3\n",
      "3 0 \n",
      "\n"
     ]
    },
    {
     "data": {
      "text/plain": [
       "'ABC'"
      ]
     },
     "execution_count": 15,
     "metadata": {},
     "output_type": "execute_result"
    }
   ],
   "source": [
    "c1=Solution()\n",
    "c1.gcdOfStrings('ABCABCABCABCABCABCABC','ABCABCABCABC')"
   ]
  },
  {
   "cell_type": "code",
   "execution_count": null,
   "id": "c190962d",
   "metadata": {},
   "outputs": [],
   "source": []
  }
 ],
 "metadata": {
  "kernelspec": {
   "display_name": "pytorch",
   "language": "python",
   "name": "python3"
  },
  "language_info": {
   "codemirror_mode": {
    "name": "ipython",
    "version": 3
   },
   "file_extension": ".py",
   "mimetype": "text/x-python",
   "name": "python",
   "nbconvert_exporter": "python",
   "pygments_lexer": "ipython3",
   "version": "3.9.19"
  }
 },
 "nbformat": 4,
 "nbformat_minor": 5
}
