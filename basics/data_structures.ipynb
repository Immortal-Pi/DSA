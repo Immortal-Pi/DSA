{
 "cells": [
  {
   "cell_type": "markdown",
   "metadata": {},
   "source": [
    "# data structures\n",
    "- list\n",
    "- tuple \n",
    "- sets \n",
    "- dictionary"
   ]
  },
  {
   "cell_type": "markdown",
   "metadata": {},
   "source": [
    "# list\n",
    "- ordered, mutable, collections of items\n",
    "- contain items of different data types "
   ]
  },
  {
   "cell_type": "code",
   "execution_count": 1,
   "metadata": {},
   "outputs": [
    {
     "data": {
      "text/plain": [
       "list"
      ]
     },
     "execution_count": 1,
     "metadata": {},
     "output_type": "execute_result"
    }
   ],
   "source": [
    "lst=[]\n",
    "type(lst)"
   ]
  },
  {
   "cell_type": "code",
   "execution_count": 4,
   "metadata": {},
   "outputs": [
    {
     "data": {
      "text/plain": [
       "list"
      ]
     },
     "execution_count": 4,
     "metadata": {},
     "output_type": "execute_result"
    }
   ],
   "source": [
    "names=['amruth','sharath','jack',1,2,3, 3.3]\n",
    "type(names)"
   ]
  },
  {
   "cell_type": "code",
   "execution_count": 5,
   "metadata": {},
   "outputs": [
    {
     "name": "stdout",
     "output_type": "stream",
     "text": [
      "['amruth', 'sharath', 'jack', 1, 2, 3, 3.3]\n"
     ]
    }
   ],
   "source": [
    "print(names)"
   ]
  },
  {
   "cell_type": "code",
   "execution_count": 20,
   "metadata": {},
   "outputs": [],
   "source": [
    "# accesssing list items \n",
    "fruits = [\n",
    "    \"Apple\", \"Banana\", \"Orange\", \"Mango\", \"Pineapple\", \n",
    "    \"Strawberry\", \"Blueberry\", \"Raspberry\", \"Watermelon\", \n",
    "    \"Cantaloupe\", \"Grapes\", \"Papaya\", \"Kiwi\", \"Peach\", \n",
    "    \"Plum\", \"Cherry\", \"Pomegranate\", \"Guava\", \"Lychee\", \n",
    "    \"Dragon Fruit\", \"Fig\", \"Avocado\", \"Pear\", \"Coconut\", \n",
    "    \"Passion Fruit\"\n",
    "]\n"
   ]
  },
  {
   "cell_type": "code",
   "execution_count": 21,
   "metadata": {},
   "outputs": [
    {
     "name": "stdout",
     "output_type": "stream",
     "text": [
      "['Banana', 'Orange', 'Mango', 'Pineapple']\n",
      "Passion Fruit\n",
      "[]\n"
     ]
    }
   ],
   "source": [
    "print(fruits[1:5])\n",
    "print(fruits[-1])\n",
    "print(fruits[-1:-3])"
   ]
  },
  {
   "cell_type": "code",
   "execution_count": 22,
   "metadata": {},
   "outputs": [],
   "source": [
    "fruits[3]='Tomato'"
   ]
  },
  {
   "cell_type": "code",
   "execution_count": 23,
   "metadata": {},
   "outputs": [],
   "source": [
    "#fruits[24:]='watermelon'"
   ]
  },
  {
   "cell_type": "code",
   "execution_count": 25,
   "metadata": {},
   "outputs": [],
   "source": [
    "# append\n",
    "fruits.append('orange')"
   ]
  },
  {
   "cell_type": "code",
   "execution_count": 26,
   "metadata": {},
   "outputs": [],
   "source": [
    "# append at index\n",
    "fruits.insert(25,'banana')"
   ]
  },
  {
   "cell_type": "code",
   "execution_count": 27,
   "metadata": {},
   "outputs": [
    {
     "data": {
      "text/plain": [
       "['Apple',\n",
       " 'Banana',\n",
       " 'Orange',\n",
       " 'Tomato',\n",
       " 'Pineapple',\n",
       " 'Strawberry',\n",
       " 'Blueberry',\n",
       " 'Raspberry',\n",
       " 'Watermelon',\n",
       " 'Cantaloupe',\n",
       " 'Grapes',\n",
       " 'Papaya',\n",
       " 'Kiwi',\n",
       " 'Peach',\n",
       " 'Plum',\n",
       " 'Cherry',\n",
       " 'Pomegranate',\n",
       " 'Guava',\n",
       " 'Lychee',\n",
       " 'Dragon Fruit',\n",
       " 'Fig',\n",
       " 'Avocado',\n",
       " 'Pear',\n",
       " 'Coconut',\n",
       " 'Passion Fruit',\n",
       " 'banana',\n",
       " 'orange',\n",
       " 'orange']"
      ]
     },
     "execution_count": 27,
     "metadata": {},
     "output_type": "execute_result"
    }
   ],
   "source": [
    "fruits"
   ]
  },
  {
   "cell_type": "code",
   "execution_count": 29,
   "metadata": {},
   "outputs": [
    {
     "name": "stdout",
     "output_type": "stream",
     "text": [
      "['Apple', 'Orange', 'Tomato', 'Pineapple', 'Strawberry', 'Blueberry', 'Raspberry', 'Watermelon', 'Cantaloupe', 'Grapes', 'Papaya', 'Kiwi', 'Peach', 'Plum', 'Cherry', 'Pomegranate', 'Guava', 'Lychee', 'Dragon Fruit', 'Fig', 'Avocado', 'Pear', 'Coconut', 'Passion Fruit', 'orange', 'orange']\n"
     ]
    }
   ],
   "source": [
    "# remove - removes first occurance of an item \n",
    "fruits.remove('Banana')\n",
    "print(fruits)"
   ]
  },
  {
   "cell_type": "code",
   "execution_count": 30,
   "metadata": {},
   "outputs": [
    {
     "name": "stdout",
     "output_type": "stream",
     "text": [
      "orange\n",
      "['Apple', 'Orange', 'Tomato', 'Pineapple', 'Strawberry', 'Blueberry', 'Raspberry', 'Watermelon', 'Cantaloupe', 'Grapes', 'Papaya', 'Kiwi', 'Peach', 'Plum', 'Cherry', 'Pomegranate', 'Guava', 'Lychee', 'Dragon Fruit', 'Fig', 'Avocado', 'Pear', 'Coconut', 'Passion Fruit', 'orange']\n"
     ]
    }
   ],
   "source": [
    "# pop\n",
    "popped_fruit=fruits.pop()\n",
    "print(popped_fruit)\n",
    "print(fruits)"
   ]
  },
  {
   "cell_type": "code",
   "execution_count": 33,
   "metadata": {},
   "outputs": [
    {
     "data": {
      "text/plain": [
       "1"
      ]
     },
     "execution_count": 33,
     "metadata": {},
     "output_type": "execute_result"
    }
   ],
   "source": [
    "fruits.count('Watermelon')"
   ]
  },
  {
   "cell_type": "code",
   "execution_count": null,
   "metadata": {},
   "outputs": [
    {
     "data": {
      "text/plain": [
       "['Apple',\n",
       " 'Avocado',\n",
       " 'Blueberry',\n",
       " 'Cantaloupe',\n",
       " 'Cherry',\n",
       " 'Coconut',\n",
       " 'Dragon Fruit',\n",
       " 'Fig',\n",
       " 'Grapes',\n",
       " 'Guava',\n",
       " 'Kiwi',\n",
       " 'Lychee',\n",
       " 'Orange',\n",
       " 'Papaya',\n",
       " 'Passion Fruit',\n",
       " 'Peach',\n",
       " 'Pear',\n",
       " 'Pineapple',\n",
       " 'Plum',\n",
       " 'Pomegranate',\n",
       " 'Raspberry',\n",
       " 'Strawberry',\n",
       " 'Tomato',\n",
       " 'Watermelon',\n",
       " 'orange']"
      ]
     },
     "execution_count": 36,
     "metadata": {},
     "output_type": "execute_result"
    }
   ],
   "source": [
    "fruits.sort() # ascendening order "
   ]
  },
  {
   "cell_type": "code",
   "execution_count": null,
   "metadata": {},
   "outputs": [
    {
     "data": {
      "text/plain": [
       "['orange',\n",
       " 'Watermelon',\n",
       " 'Tomato',\n",
       " 'Strawberry',\n",
       " 'Raspberry',\n",
       " 'Pomegranate',\n",
       " 'Plum',\n",
       " 'Pineapple',\n",
       " 'Pear',\n",
       " 'Peach',\n",
       " 'Passion Fruit',\n",
       " 'Papaya',\n",
       " 'Orange',\n",
       " 'Lychee',\n",
       " 'Kiwi',\n",
       " 'Guava',\n",
       " 'Grapes',\n",
       " 'Fig',\n",
       " 'Dragon Fruit',\n",
       " 'Coconut',\n",
       " 'Cherry',\n",
       " 'Cantaloupe',\n",
       " 'Blueberry',\n",
       " 'Avocado',\n",
       " 'Apple']"
      ]
     },
     "execution_count": 39,
     "metadata": {},
     "output_type": "execute_result"
    }
   ],
   "source": [
    "fruits.reverse() #reverse the list \n",
    "fruits"
   ]
  },
  {
   "cell_type": "code",
   "execution_count": 40,
   "metadata": {},
   "outputs": [
    {
     "data": {
      "text/plain": [
       "[]"
      ]
     },
     "execution_count": 40,
     "metadata": {},
     "output_type": "execute_result"
    }
   ],
   "source": [
    "fruits.clear() # removes all items from the list\n",
    "fruits"
   ]
  },
  {
   "cell_type": "code",
   "execution_count": null,
   "metadata": {},
   "outputs": [
    {
     "name": "stdout",
     "output_type": "stream",
     "text": [
      "[4, 5, 6, 7, 8, 9, 10]\n",
      "[1, 2, 3, 4, 5, 6, 7, 8, 9, 10]\n",
      "[4, 5, 6, 7, 8, 9, 10, 11, 12, 23, 342, 12, 3, 123, 12, 34, 235, 1, 23, 123]\n",
      "[1, 3, 5, 7, 9, 11, 23, 12, 123, 34, 1, 123]\n",
      "[123, 23, 1, 235, 34, 12, 123, 3, 12, 342, 23, 12, 11, 10, 9, 8, 7, 6, 5, 4, 3, 2, 1]\n",
      "[123, 1, 34, 123, 12, 23, 11, 9, 7, 5, 3, 1]\n"
     ]
    }
   ],
   "source": [
    "# sclicing cells\n",
    "numbers=[1,2,3,4,5,6,7,8,9,10,11,12,23,342,12,3,123,12,34,235,1,23,123]\n",
    "print(numbers[3:10])\n",
    "print(numbers[:10])\n",
    "print(numbers[3:])\n",
    "print(numbers[::2])\n",
    "print(numbers[::-1])\n",
    "print(numbers[::-2])"
   ]
  },
  {
   "cell_type": "code",
   "execution_count": 51,
   "metadata": {},
   "outputs": [
    {
     "name": "stdout",
     "output_type": "stream",
     "text": [
      "1\n",
      "2\n",
      "3\n",
      "4\n",
      "5\n",
      "6\n",
      "7\n",
      "8\n",
      "9\n",
      "10\n",
      "11\n",
      "12\n",
      "23\n",
      "342\n",
      "12\n",
      "3\n",
      "123\n",
      "12\n",
      "34\n",
      "235\n",
      "1\n",
      "23\n",
      "123\n"
     ]
    }
   ],
   "source": [
    "#iterating over list\n",
    "for n in numbers:\n",
    "    print(n)"
   ]
  },
  {
   "cell_type": "code",
   "execution_count": 52,
   "metadata": {},
   "outputs": [
    {
     "name": "stdout",
     "output_type": "stream",
     "text": [
      "0 : 1\n",
      "1 : 2\n",
      "2 : 3\n",
      "3 : 4\n",
      "4 : 5\n",
      "5 : 6\n",
      "6 : 7\n",
      "7 : 8\n",
      "8 : 9\n",
      "9 : 10\n",
      "10 : 11\n",
      "11 : 12\n",
      "12 : 23\n",
      "13 : 342\n",
      "14 : 12\n",
      "15 : 3\n",
      "16 : 123\n",
      "17 : 12\n",
      "18 : 34\n",
      "19 : 235\n",
      "20 : 1\n",
      "21 : 23\n",
      "22 : 123\n"
     ]
    }
   ],
   "source": [
    "#iterating over list with index\n",
    "for index,n in enumerate(numbers):\n",
    "    print(f'{index} : {n}')"
   ]
  },
  {
   "cell_type": "markdown",
   "metadata": {},
   "source": [
    "# list comprehension \n",
    "\n",
    "- Basic syntax              [expression for item in iterable]\n",
    "\n",
    "- with conditional logic    [expression for item in iterable if condition]\n",
    "\n",
    "- Nested list comprehension    [expression for item in iterable for item2 in iterable 2]"
   ]
  },
  {
   "cell_type": "code",
   "execution_count": 54,
   "metadata": {},
   "outputs": [
    {
     "name": "stdout",
     "output_type": "stream",
     "text": [
      "[0, 1, 4, 9, 16, 25, 36, 49, 64, 81]\n"
     ]
    },
    {
     "data": {
      "text/plain": [
       "[0, 1, 4, 9, 16, 25, 36, 49, 64, 81]"
      ]
     },
     "execution_count": 54,
     "metadata": {},
     "output_type": "execute_result"
    }
   ],
   "source": [
    "## list comprehension\n",
    "lst=[]\n",
    "for x in range(10):\n",
    "    lst.append(x**2)\n",
    "print(lst)\n",
    "\n",
    "lst=[x**2 for x in range(10)]\n",
    "lst"
   ]
  },
  {
   "cell_type": "code",
   "execution_count": 58,
   "metadata": {},
   "outputs": [
    {
     "data": {
      "text/plain": [
       "[0, 1, 4, 27, 16, 125, 36, 343, 64, 729]"
      ]
     },
     "execution_count": 58,
     "metadata": {},
     "output_type": "execute_result"
    }
   ],
   "source": [
    "# list comprehention with condition\n",
    "\n",
    "lst=[x**2 if x%2==0 else x**3 for x in range(10)]\n",
    "lst "
   ]
  },
  {
   "cell_type": "code",
   "execution_count": 61,
   "metadata": {},
   "outputs": [
    {
     "data": {
      "text/plain": [
       "[[1, 'a'],\n",
       " [1, 'b'],\n",
       " [1, 'c'],\n",
       " [1, 'd'],\n",
       " [2, 'a'],\n",
       " [2, 'b'],\n",
       " [2, 'c'],\n",
       " [2, 'd'],\n",
       " [3, 'a'],\n",
       " [3, 'b'],\n",
       " [3, 'c'],\n",
       " [3, 'd'],\n",
       " [4, 'a'],\n",
       " [4, 'b'],\n",
       " [4, 'c'],\n",
       " [4, 'd']]"
      ]
     },
     "execution_count": 61,
     "metadata": {},
     "output_type": "execute_result"
    }
   ],
   "source": [
    "# nested list comprehension\n",
    "lst1=[1,2,3,4]\n",
    "lst2=['a','b','c','d']\n",
    "\n",
    "pair=[[i,j] for i in lst1 for j in lst2]\n",
    "pair"
   ]
  },
  {
   "cell_type": "code",
   "execution_count": 64,
   "metadata": {},
   "outputs": [
    {
     "data": {
      "text/plain": [
       "[5, 5, 6, 4, 13]"
      ]
     },
     "execution_count": 64,
     "metadata": {},
     "output_type": "execute_result"
    }
   ],
   "source": [
    "# list comprenesion with function calls\n",
    "words=['hello','world','python','list','comprehension']\n",
    "lengths=[len(word) for word in words]\n",
    "\n",
    "lengths\n"
   ]
  },
  {
   "cell_type": "code",
   "execution_count": null,
   "metadata": {},
   "outputs": [],
   "source": []
  }
 ],
 "metadata": {
  "kernelspec": {
   "display_name": "Python 3",
   "language": "python",
   "name": "python3"
  },
  "language_info": {
   "codemirror_mode": {
    "name": "ipython",
    "version": 3
   },
   "file_extension": ".py",
   "mimetype": "text/x-python",
   "name": "python",
   "nbconvert_exporter": "python",
   "pygments_lexer": "ipython3",
   "version": "3.12.0"
  }
 },
 "nbformat": 4,
 "nbformat_minor": 2
}
