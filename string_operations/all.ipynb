{
 "cells": [
  {
   "cell_type": "code",
   "execution_count": 1,
   "id": "8710fd78",
   "metadata": {},
   "outputs": [],
   "source": [
    "# palindrome"
   ]
  },
  {
   "cell_type": "code",
   "execution_count": null,
   "id": "baadc3ae",
   "metadata": {},
   "outputs": [],
   "source": [
    "def is_palindrome(s):\n",
    "    \"\"\"\n",
    "    Function to check if the input string is a palindrome.\n",
    "    \n",
    "    Parameters:\n",
    "    s (str): The input string to check.\n",
    "    \n",
    "    Returns:\n",
    "    bool: True if the string is a palindrome, False otherwise.\n",
    "    \"\"\"\n",
    "    # Your code here\n",
    "    s=s.replace(' ','').lower()\n",
    "    print(s,s[::-1])\n",
    "    if s==s[::-1]:\n",
    "        print(s,s[::-1])\n",
    "        return True\n",
    "    else :\n",
    "        return False\n",
    "is_palindrome('A man a plan a canal Panama')"
   ]
  },
  {
   "cell_type": "code",
   "execution_count": 27,
   "id": "df2148d2",
   "metadata": {},
   "outputs": [
    {
     "data": {
      "text/plain": [
       "4"
      ]
     },
     "execution_count": 27,
     "metadata": {},
     "output_type": "execute_result"
    }
   ],
   "source": [
    "# count number of words \n",
    "def count_words(s):\n",
    "    \"\"\"\n",
    "    Function to count the number of words in the input string.\n",
    "    \n",
    "    Parameters:\n",
    "    s (str): The input string to check for words.\n",
    "    \n",
    "    Returns:\n",
    "    int: The count of words in the input string.\n",
    "    \"\"\"\n",
    "    # Your code here\n",
    "    # words=s.split(\" \")\n",
    "    # print(words)\n",
    "    return len(s.split())\n",
    "count_words(\"Python   programming  is  fun.\")"
   ]
  },
  {
   "cell_type": "code",
   "execution_count": 31,
   "id": "3b6bf9a9",
   "metadata": {},
   "outputs": [
    {
     "data": {
      "text/plain": [
       "'Helo, Wrd!'"
      ]
     },
     "execution_count": 31,
     "metadata": {},
     "output_type": "execute_result"
    }
   ],
   "source": [
    "# remove duplicates \n",
    "def remove_duplicates(s):\n",
    "    \"\"\"\n",
    "    Function to remove duplicate characters from the input string.\n",
    "    \n",
    "    Parameters:\n",
    "    s (str): The input string from which duplicates need to be removed.\n",
    "    \n",
    "    Returns:\n",
    "    str: The modified string with duplicates removed.\n",
    "    \"\"\"\n",
    "    # Your code here\n",
    "    new_string=''\n",
    "    for i in range(len(s)):\n",
    "        if s[i] not in new_string:\n",
    "            new_string+=s[i]\n",
    "    return new_string\n",
    "\n",
    "remove_duplicates(\"Hello, World!\")\n"
   ]
  },
  {
   "cell_type": "code",
   "execution_count": 24,
   "id": "7fc5f1cf",
   "metadata": {},
   "outputs": [
    {
     "name": "stdout",
     "output_type": "stream",
     "text": [
      "amruthpaithukaramgreat\n"
     ]
    },
    {
     "data": {
      "text/plain": [
       "13"
      ]
     },
     "execution_count": 24,
     "metadata": {},
     "output_type": "execute_result"
    }
   ],
   "source": [
    "# Count consonants in a string\n",
    "import re\n",
    "def count_consonants(s):\n",
    "    \"\"\"\n",
    "    Function to count the number of consonants in the input string.\n",
    "    \n",
    "    Parameters:\n",
    "    s (str): The input string to check for consonants.\n",
    "    \n",
    "    Returns:\n",
    "    int: The count of consonants in the input string.\n",
    "    \"\"\"\n",
    "    # Your code here\n",
    "    count=0\n",
    "    s=re.sub('[^a-zA-Z]','',s).lower()\n",
    "    print(s)\n",
    "    for i in range(len(s)):\n",
    "        if s[i] not in  'aeiou':\n",
    "            # print(s[i])\n",
    "            count+=1\n",
    "    return count\n",
    "\n",
    "count_consonants('Amruth Pai Thukaram! great')\n",
    "\n"
   ]
  },
  {
   "cell_type": "code",
   "execution_count": 33,
   "id": "2f0bafd8",
   "metadata": {},
   "outputs": [
    {
     "data": {
      "text/plain": [
       "True"
      ]
     },
     "execution_count": 33,
     "metadata": {},
     "output_type": "execute_result"
    }
   ],
   "source": [
    "# anagram \n",
    "\n",
    "def is_anagram(s, t):\n",
    "    \"\"\"\n",
    "    Function to check if t is an anagram of s.\n",
    "    \n",
    "    Parameters:\n",
    "    s (str): The first input string.\n",
    "    t (str): The second input string.\n",
    "    \n",
    "    Returns:\n",
    "    bool: True if t is an anagram of s, False otherwise.\n",
    "    \"\"\"\n",
    "    # Your code here\n",
    "    return ''.join(sorted(s))==''.join(sorted(t))\n",
    "\n",
    "is_anagram('amruth','mrutah')\n"
   ]
  },
  {
   "cell_type": "code",
   "execution_count": 44,
   "id": "9ebf731b",
   "metadata": {},
   "outputs": [
    {
     "data": {
      "text/plain": [
       "True"
      ]
     },
     "execution_count": 44,
     "metadata": {},
     "output_type": "execute_result"
    }
   ],
   "source": [
    "# anagram method 2 \n",
    "def is_anagram(s, t):\n",
    "   \n",
    "    # Your code here\n",
    "    if len(s)!=len(t):\n",
    "        return False \n",
    "    \n",
    "    char_count_s=[0]*26\n",
    "    char_count_t=[0]*26\n",
    "    \n",
    "    for char in s:\n",
    "        char_count_s[ord(char)-ord('a')]+=1\n",
    "        # print(ord(char)-ord('a'))\n",
    "    for char in t:\n",
    "        char_count_t[ord(char)-ord('a')]+=1\n",
    "        # print(ord(char)-ord('a'))\n",
    "\n",
    "    for i in range(26):\n",
    "        if char_count_s[i]!=char_count_t[i]:\n",
    "            return False\n",
    "    \n",
    "\n",
    "\n",
    "    return True\n",
    "\n",
    "is_anagram('amruthmZ','Zmmrutah')"
   ]
  },
  {
   "cell_type": "code",
   "execution_count": 57,
   "id": "1b23cc3e",
   "metadata": {},
   "outputs": [
    {
     "data": {
      "text/plain": [
       "False"
      ]
     },
     "execution_count": 57,
     "metadata": {},
     "output_type": "execute_result"
    }
   ],
   "source": [
    "def is_subsequence(s, t):\n",
    "    \"\"\"\n",
    "    Function to check if t is a subsequence of s.\n",
    "    \n",
    "    Parameters:\n",
    "    s (str): The original string.\n",
    "    t (str): The target subsequence string.\n",
    "    \n",
    "    Returns:\n",
    "    bool: True if t is a subsequence of s, False otherwise.\n",
    "    \"\"\"\n",
    "    # Your code here\n",
    "    i=0\n",
    "    j=0\n",
    "    while i<len(s) and j<len(t):\n",
    "        if s[i]==t[j]:\n",
    "            j+=1\n",
    "        i+=1\n",
    "    return j==len(t)\n",
    "\n",
    "is_subsequence('a m','ac')"
   ]
  },
  {
   "cell_type": "code",
   "execution_count": 68,
   "id": "1d0594bf",
   "metadata": {},
   "outputs": [
    {
     "data": {
      "text/plain": [
       "True"
      ]
     },
     "execution_count": 68,
     "metadata": {},
     "output_type": "execute_result"
    }
   ],
   "source": [
    "def is_substring(s, t):\n",
    "    \"\"\"\n",
    "    Function to check if string t is a substring of string s without using built-in functions and recursion.\n",
    "    \n",
    "    Parameters:\n",
    "    s (str): The main string.\n",
    "    t (str): The string to check as a substring.\n",
    "    \n",
    "    Returns:\n",
    "    bool: True if t is a substring of s, False otherwise.\n",
    "    \"\"\"\n",
    "    # Your code here\n",
    "    i=0\n",
    "    j=0\n",
    "    \n",
    "    if len(t)>len(s):\n",
    "        return False \n",
    "    for i in range(len(s)-len(t)+1):\n",
    "        j=0\n",
    "        while j<len(t) and s[i+j]==t[j]:\n",
    "            j+=1 \n",
    "        if j==len(t):\n",
    "            return True \n",
    "    return False \n",
    "\n",
    "is_substring('','')"
   ]
  },
  {
   "cell_type": "code",
   "execution_count": null,
   "id": "c1bb3768",
   "metadata": {},
   "outputs": [
    {
     "name": "stdout",
     "output_type": "stream",
     "text": [
      "3\n",
      "5\n",
      "5\n",
      "3\n",
      "5\n",
      "4\n",
      "3\n",
      "4\n"
     ]
    },
    {
     "data": {
      "text/plain": [
       "5"
      ]
     },
     "execution_count": 85,
     "metadata": {},
     "output_type": "execute_result"
    }
   ],
   "source": [
    "# length of the longest world \n",
    "def longest_word_length(s):\n",
    "    \"\"\"\n",
    "    Function to find the length of the longest word in a string without using built-in functions.\n",
    "    \n",
    "    Parameters:\n",
    "    s (str): The input string.\n",
    "    \n",
    "    Returns:\n",
    "    int: The length of the longest word.\n",
    "    \"\"\"\n",
    "    # Your code here\n",
    "    max_length=0\n",
    "    length=0\n",
    "    for i in range(len(s)):\n",
    "        if s[i]!=' ':\n",
    "            length+=1\n",
    "        else:\n",
    "            # print(length)\n",
    "            if length>max_length:\n",
    "                max_length=length\n",
    "            length=0\n",
    "    if length>max_length:\n",
    "        return length\n",
    "    else:\n",
    "        return max_length\n",
    "\n",
    "\n",
    "longest_word_length(\"The quick brown fox jumps over the lazy dog\")\n",
    "            \n"
   ]
  },
  {
   "cell_type": "code",
   "execution_count": null,
   "id": "e62edb15",
   "metadata": {},
   "outputs": [],
   "source": []
  }
 ],
 "metadata": {
  "kernelspec": {
   "display_name": "pytorch",
   "language": "python",
   "name": "python3"
  },
  "language_info": {
   "codemirror_mode": {
    "name": "ipython",
    "version": 3
   },
   "file_extension": ".py",
   "mimetype": "text/x-python",
   "name": "python",
   "nbconvert_exporter": "python",
   "pygments_lexer": "ipython3",
   "version": "3.9.19"
  }
 },
 "nbformat": 4,
 "nbformat_minor": 5
}
