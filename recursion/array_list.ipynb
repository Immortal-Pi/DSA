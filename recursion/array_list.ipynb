{
 "cells": [
  {
   "cell_type": "markdown",
   "id": "363837b0",
   "metadata": {},
   "source": [
    "# recursion on list/Array"
   ]
  },
  {
   "cell_type": "code",
   "execution_count": 2,
   "id": "e9cb83c9",
   "metadata": {},
   "outputs": [],
   "source": [
    "#1 write a program to check if array is sorted?"
   ]
  },
  {
   "cell_type": "code",
   "execution_count": null,
   "id": "2edf1109",
   "metadata": {},
   "outputs": [
    {
     "data": {
      "text/plain": [
       "False"
      ]
     },
     "execution_count": 18,
     "metadata": {},
     "output_type": "execute_result"
    }
   ],
   "source": [
    "# memory efficient since no new array is created at every iteration \n",
    "def if_sorted(arr,index=0):\n",
    "    if index==len(arr)-1 or len(arr)==0:\n",
    "        return True \n",
    "    elif arr[index]>arr[index+1]:\n",
    "        return False\n",
    "    return if_sorted(arr,index+1)\n",
    "    \n",
    "\n",
    "if_sorted([3,4,5,2])"
   ]
  },
  {
   "cell_type": "code",
   "execution_count": null,
   "id": "a60ee364",
   "metadata": {},
   "outputs": [
    {
     "data": {
      "text/plain": [
       "True"
      ]
     },
     "execution_count": 8,
     "metadata": {},
     "output_type": "execute_result"
    }
   ],
   "source": [
    "# slicing array every iteration \n",
    "def if_sorted(arr):\n",
    "    if len(arr)==1 or len(arr)==0:\n",
    "        return True \n",
    "    elif arr[0]>arr[1]:\n",
    "        return False\n",
    "    return if_sorted(arr[1:])\n",
    "    \n",
    "\n",
    "if_sorted([1,2,3,4,5,6,7])"
   ]
  },
  {
   "cell_type": "markdown",
   "id": "66803deb",
   "metadata": {},
   "source": [
    "# sum of an array using recursion"
   ]
  },
  {
   "cell_type": "code",
   "execution_count": 26,
   "id": "49c3ff16",
   "metadata": {},
   "outputs": [
    {
     "name": "stdout",
     "output_type": "stream",
     "text": [
      "28\n",
      "0\n",
      "4\n",
      "-30\n",
      "532\n"
     ]
    }
   ],
   "source": [
    "def sum_of_array(arr,index=0):\n",
    "    if len(arr)==0:\n",
    "        return 0\n",
    "    elif index==len(arr)-1:\n",
    "        return arr[index]\n",
    "    else:\n",
    "        return arr[index]+sum_of_array(arr,index+1) \n",
    "\n",
    "print(sum_of_array([4, -1, 4, 5, 6, 10]))       \n",
    "print(sum_of_array([]))                         \n",
    "print(sum_of_array([4]))                        \n",
    "print(sum_of_array([-4, -1, -4, -5, -6, -10]))   \n",
    "print(sum_of_array([10, 20, 22, 424, 12, 44]))   "
   ]
  },
  {
   "cell_type": "code",
   "execution_count": 27,
   "id": "5636f908",
   "metadata": {},
   "outputs": [
    {
     "name": "stdout",
     "output_type": "stream",
     "text": [
      "28\n",
      "0\n",
      "4\n",
      "-30\n",
      "532\n"
     ]
    }
   ],
   "source": [
    "# Sum of array with slicing\n",
    "def sum_of_array(arr):\n",
    "    if len(arr)==0:\n",
    "        return 0\n",
    "    elif len(arr)==1:\n",
    "        return arr[0]\n",
    "    else:\n",
    "        return arr[0]+sum_of_array(arr[1:]) \n",
    "    \n",
    "print(sum_of_array([4, -1, 4, 5, 6, 10]))       \n",
    "print(sum_of_array([]))                         \n",
    "print(sum_of_array([4]))                        \n",
    "print(sum_of_array([-4, -1, -4, -5, -6, -10]))   \n",
    "print(sum_of_array([10, 20, 22, 424, 12, 44])) "
   ]
  },
  {
   "cell_type": "code",
   "execution_count": 28,
   "id": "38abe562",
   "metadata": {},
   "outputs": [],
   "source": [
    "# given an array and an element find \n",
    "#a] first index of element \n",
    "#b] last index of element "
   ]
  },
  {
   "cell_type": "code",
   "execution_count": 69,
   "id": "df063fe5",
   "metadata": {},
   "outputs": [
    {
     "name": "stdout",
     "output_type": "stream",
     "text": [
      "-1\n",
      "5\n",
      "-1\n",
      "-1\n",
      "0\n",
      "1\n",
      "0\n"
     ]
    }
   ],
   "source": [
    "def find_first(arr,element,index=0):\n",
    "    if index==len(arr):\n",
    "        return -1 \n",
    "    elif arr[index]==element:\n",
    "        return index\n",
    "    else:\n",
    "        return find_first(arr,element,index+1)\n",
    "    \n",
    "\n",
    "print(find_first([10,11,14],15)) \n",
    "print(find_first([4, -1, 4, 5, 6, 10],10))       \n",
    "print(find_first([],2))                         \n",
    "print(find_first([4],3))     \n",
    "print(find_first([4],4))                     \n",
    "print(find_first([-4, -1, -4, -5, -6, -10],-1))   \n",
    "print(find_first([10, 20, 22, 424, 12, 44],10)) "
   ]
  },
  {
   "cell_type": "code",
   "execution_count": 71,
   "id": "45f0d9d0",
   "metadata": {},
   "outputs": [
    {
     "name": "stdout",
     "output_type": "stream",
     "text": [
      "6\n",
      "-1\n",
      "-1\n",
      "0\n",
      "5\n",
      "0\n"
     ]
    }
   ],
   "source": [
    "#b] last index of element\n",
    "def find_last(arr,element,index=None):\n",
    "    if index is None:\n",
    "        index=len(arr)-1 \n",
    "    if index<0:\n",
    "        return -1 \n",
    "    if arr[index]==element:\n",
    "        return index \n",
    "    else:\n",
    "        return find_last(arr,element,index-1)\n",
    "print(find_last([10,4, -1, 4, 5, 6, 10],10))       \n",
    "print(find_last([],2))                         \n",
    "print(find_last([4],3))     \n",
    "print(find_last([4],4))                     \n",
    "print(find_last([-4, -1, -4, -5, -6,-1, -10],-1))   \n",
    "print(find_last([10, 20, 22, 424, 12, 44],10)) "
   ]
  },
  {
   "cell_type": "code",
   "execution_count": null,
   "id": "bc27262a",
   "metadata": {},
   "outputs": [],
   "source": [
    "# given an array and an element find using slicing\n",
    "#a] first index of element \n",
    "#b] last index of element "
   ]
  },
  {
   "cell_type": "code",
   "execution_count": 16,
   "id": "67420ce8",
   "metadata": {},
   "outputs": [
    {
     "name": "stdout",
     "output_type": "stream",
     "text": [
      "2\n",
      "5\n",
      "-1\n",
      "-1\n",
      "0\n",
      "1\n",
      "0\n"
     ]
    }
   ],
   "source": [
    "def find_first(arr,element):\n",
    "    if len(arr)==0:\n",
    "        return -1\n",
    "    elif arr[0]==element:\n",
    "        return 0\n",
    "    ans=find_first(arr[1:],element)\n",
    "    if ans==-1:\n",
    "        return ans \n",
    "    else:\n",
    "        return ans +1 \n",
    "    \n",
    "\n",
    "print(find_first([10,11,14],14)) \n",
    "print(find_first([4, -1, 4, 5, 6, 10],10))       \n",
    "print(find_first([],2))                         \n",
    "print(find_first([4],3))     \n",
    "print(find_first([4],4))                     \n",
    "print(find_first([-4, -1, -4, -5, -6, -10],-1))   \n",
    "print(find_first([10, 20, 22, 424, 12, 44],10)) "
   ]
  },
  {
   "cell_type": "code",
   "execution_count": 35,
   "id": "09dd003e",
   "metadata": {},
   "outputs": [
    {
     "data": {
      "text/plain": [
       "6"
      ]
     },
     "execution_count": 35,
     "metadata": {},
     "output_type": "execute_result"
    }
   ],
   "source": [
    "def find_Last(arr,element):\n",
    "    if len(arr)==0:\n",
    "        return -1 \n",
    "    if arr[len(arr)-1]==element:\n",
    "        return len(arr)-1\n",
    "    return find_Last(arr[:len(arr)-1],element=element)\n",
    "\n",
    "\n",
    "find_Last([44,10, 20, 22, 10,424, 44],44)"
   ]
  },
  {
   "cell_type": "markdown",
   "id": "5c8fdc25",
   "metadata": {},
   "source": [
    "# write a program to find all index of a given element\n",
    "\n",
    "- print all the indexes of a given number\n",
    "- update the answer in list provided \n",
    "- update indices in the global list \n",
    "- return answer as new list"
   ]
  },
  {
   "cell_type": "code",
   "execution_count": 52,
   "id": "fc8a570d",
   "metadata": {},
   "outputs": [
    {
     "name": "stdout",
     "output_type": "stream",
     "text": [
      "2\n",
      "7\n",
      "8\n"
     ]
    }
   ],
   "source": [
    "# print all the indexes of a given number\n",
    "def printAllIndex(arr,element,index=0):\n",
    "    if index==len(arr):\n",
    "        return\n",
    "    if arr[index]==element:\n",
    "        print(index)\n",
    "    printAllIndex(arr,element,index+1)\n",
    "    \n",
    "\n",
    "\n",
    "# printAllIndex([2,2,5,2,8,2,2],2)\n",
    "printAllIndex([3,2,5,2,8,2,1,5,5],5)"
   ]
  },
  {
   "cell_type": "code",
   "execution_count": 57,
   "id": "5aff0b3f",
   "metadata": {},
   "outputs": [
    {
     "data": {
      "text/plain": [
       "[0, 1, 3, 5, 6]"
      ]
     },
     "execution_count": 57,
     "metadata": {},
     "output_type": "execute_result"
    }
   ],
   "source": [
    "# print all the indexes of a given number using helper function \n",
    "def printAllIndex(arr,element):\n",
    "    result=[]\n",
    "    def helper(index):\n",
    "        if index==len(arr):\n",
    "            return \n",
    "        if arr[index]==element:\n",
    "            result.append(index)\n",
    "        helper(index+1)\n",
    "    helper(0)\n",
    "    return result\n",
    "    \n",
    "printAllIndex([2,2,5,2,8,2,2],2)\n",
    "# printAllIndex([3,2,5,2,8,2,1,5,5],5)"
   ]
  },
  {
   "cell_type": "code",
   "execution_count": null,
   "id": "7137e509",
   "metadata": {},
   "outputs": [
    {
     "name": "stdout",
     "output_type": "stream",
     "text": [
      "[0, 1, 3, 5, 6] []\n"
     ]
    }
   ],
   "source": [
    "# update all indices in a provided list \n",
    "def updateAllIndicesOfAnElement(arr,element,index,ansList:list):\n",
    "    if index==len(arr):\n",
    "        return \n",
    "    if arr[index]==element:\n",
    "        ansList.append(index)\n",
    "        \n",
    "    updateAllIndicesOfAnElement(arr,element,index+1,ansList)\n",
    "ansList=[]\n",
    "updateAllIndicesOfAnElement([2,2,5,2,8,2,2],2,0,ansList)\n",
    "print(ansList)\n"
   ]
  },
  {
   "cell_type": "code",
   "execution_count": 79,
   "id": "02a58ff2",
   "metadata": {},
   "outputs": [
    {
     "name": "stdout",
     "output_type": "stream",
     "text": [
      "[0, 1, 3, 8, 12]\n"
     ]
    }
   ],
   "source": [
    "# Update indices in the global list \n",
    "def updateAllIndicesOfAnElement(arr,element,index=0):\n",
    "    if index==len(arr):\n",
    "        return \n",
    "    if arr[index]==element:\n",
    "        ansList.append(index)\n",
    "    updateAllIndicesOfAnElement(arr,element,index+1)\n",
    "ansList=[]\n",
    "updateAllIndicesOfAnElement([2,2,5,2,5,5,5,8,2,8,8,8,2],2)\n",
    "print(ansList)"
   ]
  },
  {
   "cell_type": "code",
   "execution_count": null,
   "id": "f3b5188e",
   "metadata": {},
   "outputs": [
    {
     "name": "stdout",
     "output_type": "stream",
     "text": [
      "[5]\n",
      "[5]\n",
      "[5, 3]\n",
      "[5, 3]\n",
      "[5, 3, 1]\n",
      "[5, 3, 1, 0]\n"
     ]
    },
    {
     "data": {
      "text/plain": [
       "[5, 3, 1, 0]"
      ]
     },
     "execution_count": 93,
     "metadata": {},
     "output_type": "execute_result"
    }
   ],
   "source": [
    "# return answer as a new list \n",
    "def returnAnswerAsNewList(arr,element,index=0):\n",
    "    if index==len(arr):\n",
    "        return []\n",
    "    smallList=returnAnswerAsNewList(arr,element,index+1)\n",
    "    if arr[index]==element:\n",
    "        smallList.append(index)\n",
    "    # print(smallList) \n",
    "    return smallList\n",
    "\n",
    "# ansList=[]\n",
    "returnAnswerAsNewList([2,2,5,2,5,2],2)\n"
   ]
  },
  {
   "cell_type": "code",
   "execution_count": null,
   "id": "feaa26e7",
   "metadata": {},
   "outputs": [],
   "source": []
  }
 ],
 "metadata": {
  "kernelspec": {
   "display_name": "appliedML",
   "language": "python",
   "name": "python3"
  },
  "language_info": {
   "codemirror_mode": {
    "name": "ipython",
    "version": 3
   },
   "file_extension": ".py",
   "mimetype": "text/x-python",
   "name": "python",
   "nbconvert_exporter": "python",
   "pygments_lexer": "ipython3",
   "version": "3.10.16"
  }
 },
 "nbformat": 4,
 "nbformat_minor": 5
}
