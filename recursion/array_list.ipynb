{
 "cells": [
  {
   "cell_type": "markdown",
   "id": "363837b0",
   "metadata": {},
   "source": [
    "# recursion on list/Array"
   ]
  },
  {
   "cell_type": "code",
   "execution_count": 2,
   "id": "e9cb83c9",
   "metadata": {},
   "outputs": [],
   "source": [
    "#1 write a program to check if array is sorted?"
   ]
  },
  {
   "cell_type": "code",
   "execution_count": null,
   "id": "2edf1109",
   "metadata": {},
   "outputs": [
    {
     "data": {
      "text/plain": [
       "False"
      ]
     },
     "execution_count": 18,
     "metadata": {},
     "output_type": "execute_result"
    }
   ],
   "source": [
    "# memory efficient since no new array is created at every iteration \n",
    "def if_sorted(arr,index=0):\n",
    "    if index==len(arr)-1 or len(arr)==0:\n",
    "        return True \n",
    "    elif arr[index]>arr[index+1]:\n",
    "        return False\n",
    "    return if_sorted(arr,index+1)\n",
    "    \n",
    "\n",
    "if_sorted([3,4,5,2])"
   ]
  },
  {
   "cell_type": "code",
   "execution_count": null,
   "id": "a60ee364",
   "metadata": {},
   "outputs": [
    {
     "data": {
      "text/plain": [
       "True"
      ]
     },
     "execution_count": 8,
     "metadata": {},
     "output_type": "execute_result"
    }
   ],
   "source": [
    "# slicing array every iteration \n",
    "def if_sorted(arr):\n",
    "    if len(arr)==1 or len(arr)==0:\n",
    "        return True \n",
    "    elif arr[0]>arr[1]:\n",
    "        return False\n",
    "    return if_sorted(arr[1:])\n",
    "    \n",
    "\n",
    "if_sorted([1,2,3,4,5,6,7])"
   ]
  },
  {
   "cell_type": "markdown",
   "id": "66803deb",
   "metadata": {},
   "source": [
    "# sum of an array using recursion"
   ]
  },
  {
   "cell_type": "code",
   "execution_count": 21,
   "id": "49c3ff16",
   "metadata": {},
   "outputs": [
    {
     "data": {
      "text/plain": [
       "4"
      ]
     },
     "execution_count": 21,
     "metadata": {},
     "output_type": "execute_result"
    }
   ],
   "source": [
    "def sum_of_array(arr,index=0):\n",
    "    if len(arr)==0:\n",
    "        return 0\n",
    "    elif index==len(arr)-1:\n",
    "        return arr[index]\n",
    "    else:\n",
    "        return arr[index]+sum_of_array(arr,index+1) \n",
    "\n",
    "sum_of_array([4])"
   ]
  },
  {
   "cell_type": "code",
   "execution_count": null,
   "id": "5636f908",
   "metadata": {},
   "outputs": [],
   "source": []
  }
 ],
 "metadata": {
  "kernelspec": {
   "display_name": "appliedML",
   "language": "python",
   "name": "python3"
  },
  "language_info": {
   "codemirror_mode": {
    "name": "ipython",
    "version": 3
   },
   "file_extension": ".py",
   "mimetype": "text/x-python",
   "name": "python",
   "nbconvert_exporter": "python",
   "pygments_lexer": "ipython3",
   "version": "3.10.16"
  }
 },
 "nbformat": 4,
 "nbformat_minor": 5
}
