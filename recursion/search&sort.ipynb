{
 "cells": [
  {
   "cell_type": "markdown",
   "id": "bd051124",
   "metadata": {},
   "source": [
    "# Search using recursion "
   ]
  },
  {
   "cell_type": "code",
   "execution_count": 4,
   "id": "e6a7cf7d",
   "metadata": {},
   "outputs": [
    {
     "data": {
      "text/plain": [
       "-1"
      ]
     },
     "execution_count": 4,
     "metadata": {},
     "output_type": "execute_result"
    }
   ],
   "source": [
    "def linearSearch(arr,element,index=0):\n",
    "    if index==len(arr):\n",
    "        return -1 \n",
    "    if arr[index]==element:\n",
    "        return index\n",
    "    return linearSearch(arr,element,index+1) \n",
    "\n",
    "linearSearch([5,6,7,810,12,34,4],44)"
   ]
  },
  {
   "cell_type": "code",
   "execution_count": 18,
   "id": "2baf0094",
   "metadata": {},
   "outputs": [
    {
     "data": {
      "text/plain": [
       "True"
      ]
     },
     "execution_count": 18,
     "metadata": {},
     "output_type": "execute_result"
    }
   ],
   "source": [
    "def linearSearch(arr,element,index=0):\n",
    "    if index==len(arr):\n",
    "        return False \n",
    "    ansFromRecusrion=linearSearch(arr,element,index+1)\n",
    "    # if ansFromRecusrion==True:\n",
    "    #     return True\n",
    "    # if arr[index]==element:\n",
    "    #     return True\n",
    "    # return False\n",
    "    return arr[index]==element or ansFromRecusrion\n",
    "\n",
    "linearSearch([5,6,7,810,12,34,4],12)"
   ]
  },
  {
   "cell_type": "code",
   "execution_count": 16,
   "id": "4b876125",
   "metadata": {},
   "outputs": [
    {
     "data": {
      "text/plain": [
       "True"
      ]
     },
     "execution_count": 16,
     "metadata": {},
     "output_type": "execute_result"
    }
   ],
   "source": [
    "def linearSearch(arr,element,index=0):\n",
    "    if index==len(arr):\n",
    "        return False \n",
    "    if arr[index]==element:\n",
    "        return True\n",
    "    return linearSearch(arr,element,index+1) \n",
    "\n",
    "linearSearch([5,6,7,810,12,34,4],34)"
   ]
  },
  {
   "cell_type": "markdown",
   "id": "1eaa6a0b",
   "metadata": {},
   "source": [
    "# binary search using recursion"
   ]
  },
  {
   "cell_type": "code",
   "execution_count": null,
   "id": "fca2ca84",
   "metadata": {},
   "outputs": [
    {
     "data": {
      "text/plain": [
       "-1"
      ]
     },
     "execution_count": 13,
     "metadata": {},
     "output_type": "execute_result"
    }
   ],
   "source": [
    "def binary_search(arr,start,end,element):\n",
    "    if start>end:\n",
    "        return -1 \n",
    "    mid=(start+end)//2\n",
    "    if arr[mid]==element:\n",
    "        return mid \n",
    "    elif element>arr[mid]:\n",
    "        return binary_search(arr,mid+1,end,element)\n",
    "    else:\n",
    "        return binary_search(arr,start,mid-1,element)\n",
    "\n",
    "    \n",
    "\n",
    "binary_search([2,3,4,5,23,55,67,100],0,7,44)"
   ]
  },
  {
   "cell_type": "code",
   "execution_count": 18,
   "id": "d0f7cc0a",
   "metadata": {},
   "outputs": [
    {
     "data": {
      "text/plain": [
       "1111"
      ]
     },
     "execution_count": 18,
     "metadata": {},
     "output_type": "execute_result"
    }
   ],
   "source": [
    "# using helper if we cant use start and end in the functions \n",
    "def binary_search(arr,element):\n",
    "    start=0\n",
    "    end =len(arr)-1\n",
    "    mid=(start+end)//2\n",
    "    def binary_search_helper(arr,start,end,element):\n",
    "        mid=(start+end)//2\n",
    "        if start>end:\n",
    "            return -1 \n",
    "        if arr[mid]==element:\n",
    "            return mid \n",
    "        if element>arr[mid]:\n",
    "            return binary_search_helper(arr,mid+1,end,element)\n",
    "        else:\n",
    "            return binary_search_helper(arr,start,mid-1,element)\n",
    " \n",
    "    return binary_search_helper(arr,start,end,element) \n",
    "    \n",
    "l1=[i for i in range(10000000)]\n",
    "binary_search(l1,1111)"
   ]
  },
  {
   "cell_type": "markdown",
   "id": "5ac827bd",
   "metadata": {},
   "source": [
    "# Merge Sort "
   ]
  },
  {
   "cell_type": "code",
   "execution_count": 9,
   "id": "8576f04f",
   "metadata": {},
   "outputs": [
    {
     "name": "stdout",
     "output_type": "stream",
     "text": [
      "[33, 45]\n",
      "[1, 7]\n",
      "[1, 7, 33, 45]\n",
      "[2, 50]\n",
      "[10, 12]\n",
      "[2, 10, 12, 50]\n",
      "[1, 2, 7, 10, 12, 33, 45, 50]\n"
     ]
    },
    {
     "data": {
      "text/plain": [
       "[1, 2, 7, 10, 12, 33, 45, 50]"
      ]
     },
     "execution_count": 9,
     "metadata": {},
     "output_type": "execute_result"
    }
   ],
   "source": [
    "# sort using a new array and return \n",
    "def merge(left,right):\n",
    "    i=j=0\n",
    "    merged=[]\n",
    "    while i<len(left) and j<len(right):\n",
    "        if left[i]<right[j]:\n",
    "            merged.append(left[i])\n",
    "            i+=1\n",
    "        else:\n",
    "            merged.append(right[j])\n",
    "            j+=1\n",
    "    merged.extend(left[i:])\n",
    "    merged.extend(right[j:])\n",
    "    print(merged)\n",
    "    return merged\n",
    "\n",
    "def merge_sort(arr):\n",
    "    if len(arr)<=1:\n",
    "        return arr\n",
    "    mid=len(arr)//2\n",
    "    left=merge_sort(arr[:mid])\n",
    "    right=merge_sort(arr[mid:])\n",
    "\n",
    "    return merge(left,right)\n",
    "\n",
    "arr=[45,33,1,7,2,50,10,12]\n",
    "merge_sort(arr)\n"
   ]
  },
  {
   "cell_type": "code",
   "execution_count": 14,
   "id": "a95478f6",
   "metadata": {},
   "outputs": [
    {
     "name": "stdout",
     "output_type": "stream",
     "text": [
      "[1, 2, 2, 7, 10, 12, 33, 45, 50]\n"
     ]
    }
   ],
   "source": [
    "# update existing arr using an other array \n",
    "def merge(arr,start,mid,end):\n",
    "    i=start\n",
    "    j=mid+1\n",
    "    ans=[]\n",
    "    while i<=mid and j<=end:\n",
    "        if arr[i]<arr[j]:\n",
    "            ans.append(arr[i])\n",
    "            i+=1 \n",
    "        else:\n",
    "            ans.append(arr[j])\n",
    "            j+=1\n",
    "        \n",
    "\n",
    "    # append remaining elements \n",
    "    while i<=mid:\n",
    "        ans.append(arr[i])\n",
    "        i+=1 \n",
    "    while j<=end:\n",
    "        ans.append(arr[j])\n",
    "        j+=1 \n",
    "    # update original array\n",
    "    for k in range(len(ans)):\n",
    "        arr[start+k]=ans[k]\n",
    "\n",
    "def merge_sort(arr,start,end):\n",
    "    if start>=end:\n",
    "        return\n",
    "    \n",
    "    mid=(start+end)//2\n",
    "\n",
    "    merge_sort(arr,start,mid)\n",
    "    merge_sort(arr,mid+1,end)\n",
    "\n",
    "    merge(arr,start,mid,end)\n",
    "     \n",
    "\n",
    "arr=[45,33,1,7,2,50,10,2,12]\n",
    "merge_sort(arr,0,len(arr)-1)\n",
    "print(arr)"
   ]
  },
  {
   "cell_type": "code",
   "execution_count": 11,
   "id": "d221be40",
   "metadata": {},
   "outputs": [
    {
     "name": "stdout",
     "output_type": "stream",
     "text": [
      "[1, 2, 7, 10, 12, 33, 45, 50]\n"
     ]
    }
   ],
   "source": [
    "# merge sort on original array \n",
    "def merge(arr,start,mid,end):\n",
    "    i=start\n",
    "    j=mid+1 \n",
    "    k=start\n",
    "    ans=[]\n",
    "    while i<=mid and j<=end:\n",
    "        if arr[i]<arr[j]:\n",
    "            ans.append(arr[i])\n",
    "            i+=1 \n",
    "        if arr[j]<arr[i]:\n",
    "            ans.append(arr[j])\n",
    "            j+=1\n",
    "    while i<=mid:\n",
    "        ans.append(arr[i])\n",
    "        i+=1\n",
    "    while j<=end:\n",
    "        ans.append(arr[j])\n",
    "        j+=1 \n",
    "    for i in range(len(ans)):\n",
    "        arr[start+i]=ans[i]\n",
    "    \n",
    "\n",
    "\n",
    "def merge_sort(arr,start,end):\n",
    "    if start>=end:\n",
    "        return \n",
    "    mid=(start+end)//2\n",
    "\n",
    "    merge_sort(arr,start,mid)\n",
    "    merge_sort(arr,mid+1,end)\n",
    "\n",
    "    merge(arr,start,mid,end)\n",
    "\n",
    "    \n",
    "\n",
    "arr=[45,33,1,7,2,50,10,12]\n",
    "merge_sort(arr,0,len(arr)-1)\n",
    "print(arr)"
   ]
  },
  {
   "cell_type": "code",
   "execution_count": null,
   "id": "989554a4",
   "metadata": {},
   "outputs": [
    {
     "ename": "",
     "evalue": "",
     "output_type": "error",
     "traceback": [
      "\u001b[1;31mThe Kernel crashed while executing code in the current cell or a previous cell. \n",
      "\u001b[1;31mPlease review the code in the cell(s) to identify a possible cause of the failure. \n",
      "\u001b[1;31mClick <a href='https://aka.ms/vscodeJupyterKernelCrash'>here</a> for more info. \n",
      "\u001b[1;31mView Jupyter <a href='command:jupyter.viewOutput'>log</a> for further details."
     ]
    }
   ],
   "source": [
    "def merge(arr,start,mid,end):\n",
    "    i=start\n",
    "    j=mid+1 \n",
    "    k=[]\n",
    "    \n",
    "    while i<=mid and j<=end:\n",
    "        if arr[i]<arr[j]:\n",
    "            k.append(arr[i])\n",
    "            i+=1\n",
    "        if arr[j]<arr[i]:\n",
    "            k.append(arr[j])\n",
    "            j+=1 \n",
    "    k.extend(arr[i:mid+1])\n",
    "    k.extend(arr[j:end+1])\n",
    "    for i in range(len(k)):\n",
    "        arr[i+start]=k[i]\n",
    "\n",
    "def merge_sort(arr,start,end):\n",
    "    if start>=end:\n",
    "        return \n",
    "    mid=(start+end)//2\n",
    "    merge_sort(arr,start,mid)\n",
    "    merge_sort(arr,mid+1,end)\n",
    "    merge(arr,start,mid,end)\n",
    "    \n",
    "\n",
    "arr=[5, 2, 9, 1, 5, 6]\n",
    "merge_sort(arr,0,len(arr)-1)\n",
    "print(arr)"
   ]
  },
  {
   "cell_type": "code",
   "execution_count": 5,
   "id": "2de47145",
   "metadata": {},
   "outputs": [
    {
     "data": {
      "text/plain": [
       "[1, 2, 5, 5, 6, 9]"
      ]
     },
     "execution_count": 5,
     "metadata": {},
     "output_type": "execute_result"
    }
   ],
   "source": [
    "def merge_sort(arr):\n",
    "    \"\"\"\n",
    "    Function to perform merge sort on a list of integers using recursion.\n",
    "    \n",
    "    Parameters:\n",
    "    arr (list of int): The list to be sorted.\n",
    "    \n",
    "    Returns:\n",
    "    list of int: The sorted list.\n",
    "    \"\"\"\n",
    "    start=0\n",
    "    end=len(arr)-1\n",
    "    \n",
    "    def merge_sort_helper(arr,start,end):\n",
    "        if start>=end:\n",
    "            return \n",
    "        mid=(start+end)//2\n",
    "        merge_sort_helper(arr,start,mid)\n",
    "        merge_sort_helper(arr,mid+1,end)\n",
    "        merge(arr,start,mid,end)\n",
    "    merge_sort_helper(arr,start,end)\n",
    "    return arr \n",
    "    \n",
    "def merge(arr,start,mid,end):\n",
    "    i=start\n",
    "    j=mid+1 \n",
    "    k=[]\n",
    "    \n",
    "    while i<=mid and j<=end:\n",
    "        if arr[i]<arr[j]:\n",
    "            k.append(arr[i])\n",
    "            i+=1\n",
    "        else:\n",
    "            k.append(arr[j])\n",
    "            j+=1 \n",
    "    k.extend(arr[i:mid+1])\n",
    "    k.extend(arr[j:end+1])\n",
    "    for i in range(len(k)):\n",
    "        arr[i+start]=k[i]\n",
    "arr=[5, 2, 9, 1, 5, 6]\n",
    "merge_sort(arr)"
   ]
  },
  {
   "attachments": {
    "image.png": {
     "image/png": "[encoded data removed]"
    }
   },
   "cell_type": "markdown",
   "id": "f2a71fd3",
   "metadata": {},
   "source": [
    "# merge sort problem\n",
    "![image.png](attachment:image.png)"
   ]
  },
  {
   "cell_type": "code",
   "execution_count": null,
   "id": "04355d8c",
   "metadata": {},
   "outputs": [
    {
     "data": {
      "text/plain": [
       "[1, 2, 2, 3, 5, 6]"
      ]
     },
     "execution_count": 8,
     "metadata": {},
     "output_type": "execute_result"
    }
   ],
   "source": [
    "class Solution(object):\n",
    "    def merge(self, nums1, m, nums2, n):\n",
    "        \"\"\"\n",
    "        :type nums1: List[int]\n",
    "        :type m: int\n",
    "        :type nums2: List[int]\n",
    "        :type n: int\n",
    "        :rtype: None Do not return anything, modify nums1 in-place instead.\n",
    "        \"\"\"\n",
    "        i=0\n",
    "        j=0\n",
    "        k=[]\n",
    "        while i<m:\n",
    "            if nums1[i]<nums2[j]:\n",
    "                k.append(nums1[i])\n",
    "                i+=1 \n",
    "            else:\n",
    "                k.append(nums2[j])\n",
    "                j+=1\n",
    "        k.extend(nums1[i:m])\n",
    "        k.extend(nums2[j:])\n",
    "        for i in range(len(k)):\n",
    "            nums1[i]=k[i]\n",
    "        return nums1\n",
    "                \n",
    "\n",
    "\n",
    "Solution().merge([1,2,3,0,0,0],3,[2,5,6],3)"
   ]
  },
  {
   "cell_type": "markdown",
   "id": "70016b26",
   "metadata": {},
   "source": [
    "# quick sort"
   ]
  },
  {
   "cell_type": "code",
   "execution_count": null,
   "id": "28c9f8dc",
   "metadata": {},
   "outputs": [
    {
     "name": "stdout",
     "output_type": "stream",
     "text": [
      "[3, 6, 7, 2, 5, 1, 4, 9, 10]\n",
      "[3, 2, 1, 4, 5, 7, 6, 9, 10]\n",
      "[1, 2, 3, 4, 5, 7, 6, 9, 10]\n",
      "[1, 2, 3, 4, 5, 7, 6, 9, 10]\n",
      "[1, 2, 3, 4, 5, 6, 7, 9, 10]\n"
     ]
    },
    {
     "data": {
      "text/plain": [
       "[1, 2, 3, 4, 5, 6, 7, 9, 10]"
      ]
     },
     "execution_count": 18,
     "metadata": {},
     "output_type": "execute_result"
    }
   ],
   "source": [
    "# dual index partition \n",
    "def quickSort(arr,start,end):\n",
    "    if start>=end:\n",
    "        return \n",
    "    pivot_index=partition(arr,start,end)\n",
    "    quickSort(arr,start,pivot_index-1)\n",
    "    quickSort(arr,pivot_index+1,end)\n",
    "    return arr \n",
    "\n",
    "def partition(arr,start,end):\n",
    "    pivot_element=arr[end]\n",
    "    i=start \n",
    "    right_position=start\n",
    "\n",
    "    while i<=end-1:\n",
    "        if arr[i]<pivot_element:\n",
    "            right_position+=1 \n",
    "        i+=1 \n",
    "    arr[right_position],arr[end]=arr[end],arr[right_position]\n",
    "    pivotIndex=right_position\n",
    "    while start<pivotIndex and end>pivotIndex:\n",
    "        if arr[start]<pivot_element:\n",
    "            start+=1\n",
    "        elif arr[end]>=pivot_element:\n",
    "            end-=1\n",
    "        else:\n",
    "            arr[start],arr[end]=arr[end],arr[start]\n",
    "            start+=1\n",
    "            end-=1 \n",
    "    print(arr)\n",
    "    return pivotIndex \n",
    "        \n",
    "\n",
    "\n",
    "\n",
    "\n",
    "arr=[3,6,7,2,10,1,4,5]     # 1,2,3,4,5,6,7\n",
    "quickSort(arr,0,len(arr)-1)"
   ]
  },
  {
   "cell_type": "code",
   "execution_count": null,
   "id": "d4c15c05",
   "metadata": {},
   "outputs": [
    {
     "data": {
      "text/plain": [
       "[1, 2, 3, 4, 5, 6, 7, 9, 10]"
      ]
     },
     "execution_count": 19,
     "metadata": {},
     "output_type": "execute_result"
    }
   ],
   "source": [
    "def quickSort(arr, start, end):\n",
    "    if start >= end:\n",
    "        return\n",
    "    pivot_index = partition(arr, start, end)\n",
    "    quickSort(arr, start, pivot_index - 1)\n",
    "    quickSort(arr, pivot_index + 1, end)\n",
    "    return arr\n",
    "\n",
    "def partition(arr, start, end):\n",
    "    pivot = arr[end]\n",
    "    i = start - 1\n",
    "\n",
    "    for j in range(start, end):\n",
    "        if arr[j] < pivot:\n",
    "            i += 1\n",
    "            arr[i], arr[j] = arr[j], arr[i]\n",
    "    \n",
    "    arr[i+1], arr[end] = arr[end], arr[i+1]\n",
    "    return i + 1\n",
    "\n",
    "arr=[3,6,7,2,10,1,4,5,9]     \n",
    "quickSort(arr,0,len(arr)-1)\n"
   ]
  },
  {
   "cell_type": "code",
   "execution_count": 5,
   "id": "fd7c6e02",
   "metadata": {},
   "outputs": [
    {
     "data": {
      "text/plain": [
       "[1, 1, 2, 3, 4, 5, 6, 6, 7, 10]"
      ]
     },
     "execution_count": 5,
     "metadata": {},
     "output_type": "execute_result"
    }
   ],
   "source": [
    "def partition(arr,start,end):\n",
    "    pivot_element=arr[end]\n",
    "    i=start-1  \n",
    "    for j in range(start,end):\n",
    "        if arr[j]<pivot_element:\n",
    "            i+=1\n",
    "            arr[i],arr[j]=arr[j],arr[i]\n",
    "    arr[i+1],arr[end]=arr[end],arr[i+1]\n",
    "    return i+1 \n",
    "\n",
    "\n",
    "def quickSort(arr,start,end):\n",
    "    if start>=end:\n",
    "        return \n",
    "    \n",
    "    pivot=partition(arr,start,end)\n",
    "    quickSort(arr,start,pivot-1)\n",
    "    quickSort(arr,pivot+1,end)\n",
    "    return arr \n",
    "\n",
    "arr=[10, 3,6,1,6,7,2,1,4,5]     # 1,2,3,4,5,6,7\n",
    "quickSort(arr,0,len(arr)-1)"
   ]
  },
  {
   "cell_type": "code",
   "execution_count": 7,
   "id": "da397502",
   "metadata": {},
   "outputs": [
    {
     "name": "stdout",
     "output_type": "stream",
     "text": [
      "\n",
      "📍 Partitioning: [10, 3, 6, 1, 6, 7, 2, 1, 4, 5] | Pivot = 5\n",
      "  🔄 Swapped 3 and 10 → [3, 10, 6, 1, 6, 7, 2, 1, 4, 5]\n",
      "  🔄 Swapped 1 and 10 → [3, 1, 6, 10, 6, 7, 2, 1, 4, 5]\n",
      "  🔄 Swapped 2 and 6 → [3, 1, 2, 10, 6, 7, 6, 1, 4, 5]\n",
      "  🔄 Swapped 1 and 10 → [3, 1, 2, 1, 6, 7, 6, 10, 4, 5]\n",
      "  🔄 Swapped 4 and 6 → [3, 1, 2, 1, 4, 7, 6, 10, 6, 5]\n",
      "  🔚 Swapped pivot 5 with 7 → [3, 1, 2, 1, 4, 5, 6, 10, 6, 7]\n",
      "✅ Pivot placed at index 5: [3, 1, 2, 1, 4, 5, 6, 10, 6, 7]\n",
      "\n",
      "📍 Partitioning: [3, 1, 2, 1, 4] | Pivot = 4\n",
      "  🔄 Swapped 3 and 3 → [3, 1, 2, 1, 4, 5, 6, 10, 6, 7]\n",
      "  🔄 Swapped 1 and 1 → [3, 1, 2, 1, 4, 5, 6, 10, 6, 7]\n",
      "  🔄 Swapped 2 and 2 → [3, 1, 2, 1, 4, 5, 6, 10, 6, 7]\n",
      "  🔄 Swapped 1 and 1 → [3, 1, 2, 1, 4, 5, 6, 10, 6, 7]\n",
      "  🔚 Swapped pivot 4 with 4 → [3, 1, 2, 1, 4, 5, 6, 10, 6, 7]\n",
      "✅ Pivot placed at index 4: [3, 1, 2, 1, 4, 5, 6, 10, 6, 7]\n",
      "\n",
      "📍 Partitioning: [3, 1, 2, 1] | Pivot = 1\n",
      "  🔚 Swapped pivot 1 with 3 → [1, 1, 2, 3, 4, 5, 6, 10, 6, 7]\n",
      "✅ Pivot placed at index 0: [1, 1, 2, 3, 4, 5, 6, 10, 6, 7]\n",
      "\n",
      "📍 Partitioning: [1, 2, 3] | Pivot = 3\n",
      "  🔄 Swapped 1 and 1 → [1, 1, 2, 3, 4, 5, 6, 10, 6, 7]\n",
      "  🔄 Swapped 2 and 2 → [1, 1, 2, 3, 4, 5, 6, 10, 6, 7]\n",
      "  🔚 Swapped pivot 3 with 3 → [1, 1, 2, 3, 4, 5, 6, 10, 6, 7]\n",
      "✅ Pivot placed at index 3: [1, 1, 2, 3, 4, 5, 6, 10, 6, 7]\n",
      "\n",
      "📍 Partitioning: [1, 2] | Pivot = 2\n",
      "  🔄 Swapped 1 and 1 → [1, 1, 2, 3, 4, 5, 6, 10, 6, 7]\n",
      "  🔚 Swapped pivot 2 with 2 → [1, 1, 2, 3, 4, 5, 6, 10, 6, 7]\n",
      "✅ Pivot placed at index 2: [1, 1, 2, 3, 4, 5, 6, 10, 6, 7]\n",
      "\n",
      "📍 Partitioning: [6, 10, 6, 7] | Pivot = 7\n",
      "  🔄 Swapped 6 and 6 → [1, 1, 2, 3, 4, 5, 6, 10, 6, 7]\n",
      "  🔄 Swapped 6 and 10 → [1, 1, 2, 3, 4, 5, 6, 6, 10, 7]\n",
      "  🔚 Swapped pivot 7 with 10 → [1, 1, 2, 3, 4, 5, 6, 6, 7, 10]\n",
      "✅ Pivot placed at index 8: [1, 1, 2, 3, 4, 5, 6, 6, 7, 10]\n",
      "\n",
      "📍 Partitioning: [6, 6] | Pivot = 6\n",
      "  🔚 Swapped pivot 6 with 6 → [1, 1, 2, 3, 4, 5, 6, 6, 7, 10]\n",
      "✅ Pivot placed at index 6: [1, 1, 2, 3, 4, 5, 6, 6, 7, 10]\n"
     ]
    },
    {
     "data": {
      "text/plain": [
       "[1, 1, 2, 3, 4, 5, 6, 6, 7, 10]"
      ]
     },
     "execution_count": 7,
     "metadata": {},
     "output_type": "execute_result"
    }
   ],
   "source": [
    "def partition(arr, start, end):\n",
    "    pivot_element = arr[end]\n",
    "    i = start - 1\n",
    "    print(f\"\\n📍 Partitioning: {arr[start:end+1]} | Pivot = {pivot_element}\")\n",
    "\n",
    "    for j in range(start, end):\n",
    "        if arr[j] < pivot_element:\n",
    "            i += 1\n",
    "            arr[i], arr[j] = arr[j], arr[i]\n",
    "            print(f\"  🔄 Swapped {arr[i]} and {arr[j]} → {arr}\")\n",
    "    \n",
    "    arr[i + 1], arr[end] = arr[end], arr[i + 1]\n",
    "    print(f\"  🔚 Swapped pivot {arr[i+1]} with {arr[end]} → {arr}\")\n",
    "    print(f\"✅ Pivot placed at index {i + 1}: {arr}\")\n",
    "    return i + 1\n",
    "\n",
    "def quickSort(arr, start, end):\n",
    "    if start >= end:\n",
    "        return\n",
    "\n",
    "    pivot = partition(arr, start, end)\n",
    "    quickSort(arr, start, pivot - 1)\n",
    "    quickSort(arr, pivot + 1, end)\n",
    "    return arr\n",
    "arr = [10, 3, 6, 1, 6, 7, 2, 1, 4, 5]\n",
    "quickSort(arr, 0, len(arr) - 1)\n",
    "\n"
   ]
  },
  {
   "cell_type": "code",
   "execution_count": null,
   "id": "62891cb1",
   "metadata": {},
   "outputs": [],
   "source": []
  }
 ],
 "metadata": {
  "kernelspec": {
   "display_name": "appliedML",
   "language": "python",
   "name": "python3"
  },
  "language_info": {
   "codemirror_mode": {
    "name": "ipython",
    "version": 3
   },
   "file_extension": ".py",
   "mimetype": "text/x-python",
   "name": "python",
   "nbconvert_exporter": "python",
   "pygments_lexer": "ipython3",
   "version": "3.10.16"
  }
 },
 "nbformat": 4,
 "nbformat_minor": 5
}
