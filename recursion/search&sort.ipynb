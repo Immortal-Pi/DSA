{
 "cells": [
  {
   "cell_type": "markdown",
   "id": "bd051124",
   "metadata": {},
   "source": [
    "# Search using recursion "
   ]
  },
  {
   "cell_type": "code",
   "execution_count": 4,
   "id": "e6a7cf7d",
   "metadata": {},
   "outputs": [
    {
     "data": {
      "text/plain": [
       "-1"
      ]
     },
     "execution_count": 4,
     "metadata": {},
     "output_type": "execute_result"
    }
   ],
   "source": [
    "def linearSearch(arr,element,index=0):\n",
    "    if index==len(arr):\n",
    "        return -1 \n",
    "    if arr[index]==element:\n",
    "        return index\n",
    "    return linearSearch(arr,element,index+1) \n",
    "\n",
    "linearSearch([5,6,7,810,12,34,4],44)"
   ]
  },
  {
   "cell_type": "code",
   "execution_count": 18,
   "id": "2baf0094",
   "metadata": {},
   "outputs": [
    {
     "data": {
      "text/plain": [
       "True"
      ]
     },
     "execution_count": 18,
     "metadata": {},
     "output_type": "execute_result"
    }
   ],
   "source": [
    "def linearSearch(arr,element,index=0):\n",
    "    if index==len(arr):\n",
    "        return False \n",
    "    ansFromRecusrion=linearSearch(arr,element,index+1)\n",
    "    # if ansFromRecusrion==True:\n",
    "    #     return True\n",
    "    # if arr[index]==element:\n",
    "    #     return True\n",
    "    # return False\n",
    "    return arr[index]==element or ansFromRecusrion\n",
    "\n",
    "linearSearch([5,6,7,810,12,34,4],12)"
   ]
  },
  {
   "cell_type": "code",
   "execution_count": 16,
   "id": "4b876125",
   "metadata": {},
   "outputs": [
    {
     "data": {
      "text/plain": [
       "True"
      ]
     },
     "execution_count": 16,
     "metadata": {},
     "output_type": "execute_result"
    }
   ],
   "source": [
    "def linearSearch(arr,element,index=0):\n",
    "    if index==len(arr):\n",
    "        return False \n",
    "    if arr[index]==element:\n",
    "        return True\n",
    "    return linearSearch(arr,element,index+1) \n",
    "\n",
    "linearSearch([5,6,7,810,12,34,4],34)"
   ]
  },
  {
   "cell_type": "markdown",
   "id": "1eaa6a0b",
   "metadata": {},
   "source": [
    "# binary search using recursion"
   ]
  },
  {
   "cell_type": "code",
   "execution_count": null,
   "id": "fca2ca84",
   "metadata": {},
   "outputs": [
    {
     "data": {
      "text/plain": [
       "-1"
      ]
     },
     "execution_count": 13,
     "metadata": {},
     "output_type": "execute_result"
    }
   ],
   "source": [
    "def binary_search(arr,start,end,element):\n",
    "    if start>end:\n",
    "        return -1 \n",
    "    mid=(start+end)//2\n",
    "    if arr[mid]==element:\n",
    "        return mid \n",
    "    elif element>arr[mid]:\n",
    "        return binary_search(arr,mid+1,end,element)\n",
    "    else:\n",
    "        return binary_search(arr,start,mid-1,element)\n",
    "\n",
    "    \n",
    "\n",
    "binary_search([2,3,4,5,23,55,67,100],0,7,44)"
   ]
  },
  {
   "cell_type": "code",
   "execution_count": 18,
   "id": "d0f7cc0a",
   "metadata": {},
   "outputs": [
    {
     "data": {
      "text/plain": [
       "1111"
      ]
     },
     "execution_count": 18,
     "metadata": {},
     "output_type": "execute_result"
    }
   ],
   "source": [
    "# using helper if we cant use start and end in the functions \n",
    "def binary_search(arr,element):\n",
    "    start=0\n",
    "    end =len(arr)-1\n",
    "    mid=(start+end)//2\n",
    "    def binary_search_helper(arr,start,end,element):\n",
    "        mid=(start+end)//2\n",
    "        if start>end:\n",
    "            return -1 \n",
    "        if arr[mid]==element:\n",
    "            return mid \n",
    "        if element>arr[mid]:\n",
    "            return binary_search_helper(arr,mid+1,end,element)\n",
    "        else:\n",
    "            return binary_search_helper(arr,start,mid-1,element)\n",
    " \n",
    "    return binary_search_helper(arr,start,end,element) \n",
    "    \n",
    "l1=[i for i in range(10000000)]\n",
    "binary_search(l1,1111)"
   ]
  },
  {
   "cell_type": "markdown",
   "id": "5ac827bd",
   "metadata": {},
   "source": [
    "# Merge Sort "
   ]
  },
  {
   "cell_type": "code",
   "execution_count": 9,
   "id": "8576f04f",
   "metadata": {},
   "outputs": [
    {
     "name": "stdout",
     "output_type": "stream",
     "text": [
      "[33, 45]\n",
      "[1, 7]\n",
      "[1, 7, 33, 45]\n",
      "[2, 50]\n",
      "[10, 12]\n",
      "[2, 10, 12, 50]\n",
      "[1, 2, 7, 10, 12, 33, 45, 50]\n"
     ]
    },
    {
     "data": {
      "text/plain": [
       "[1, 2, 7, 10, 12, 33, 45, 50]"
      ]
     },
     "execution_count": 9,
     "metadata": {},
     "output_type": "execute_result"
    }
   ],
   "source": [
    "# sort using a new array and return \n",
    "def merge(left,right):\n",
    "    i=j=0\n",
    "    merged=[]\n",
    "    while i<len(left) and j<len(right):\n",
    "        if left[i]<right[j]:\n",
    "            merged.append(left[i])\n",
    "            i+=1\n",
    "        else:\n",
    "            merged.append(right[j])\n",
    "            j+=1\n",
    "    merged.extend(left[i:])\n",
    "    merged.extend(right[j:])\n",
    "    print(merged)\n",
    "    return merged\n",
    "\n",
    "def merge_sort(arr):\n",
    "    if len(arr)<=1:\n",
    "        return arr\n",
    "    mid=len(arr)//2\n",
    "    left=merge_sort(arr[:mid])\n",
    "    right=merge_sort(arr[mid:])\n",
    "\n",
    "    return merge(left,right)\n",
    "\n",
    "arr=[45,33,1,7,2,50,10,12]\n",
    "merge_sort(arr)\n"
   ]
  },
  {
   "cell_type": "code",
   "execution_count": 14,
   "id": "a95478f6",
   "metadata": {},
   "outputs": [
    {
     "name": "stdout",
     "output_type": "stream",
     "text": [
      "[1, 2, 2, 7, 10, 12, 33, 45, 50]\n"
     ]
    }
   ],
   "source": [
    "# update existing arr using an other array \n",
    "def merge(arr,start,mid,end):\n",
    "    i=start\n",
    "    j=mid+1\n",
    "    ans=[]\n",
    "    while i<=mid and j<=end:\n",
    "        if arr[i]<arr[j]:\n",
    "            ans.append(arr[i])\n",
    "            i+=1 \n",
    "        else:\n",
    "            ans.append(arr[j])\n",
    "            j+=1\n",
    "        \n",
    "\n",
    "    # append remaining elements \n",
    "    while i<=mid:\n",
    "        ans.append(arr[i])\n",
    "        i+=1 \n",
    "    while j<=end:\n",
    "        ans.append(arr[j])\n",
    "        j+=1 \n",
    "    # update original array\n",
    "    for k in range(len(ans)):\n",
    "        arr[start+k]=ans[k]\n",
    "\n",
    "def merge_sort(arr,start,end):\n",
    "    if start>=end:\n",
    "        return\n",
    "    \n",
    "    mid=(start+end)//2\n",
    "\n",
    "    merge_sort(arr,start,mid)\n",
    "    merge_sort(arr,mid+1,end)\n",
    "\n",
    "    merge(arr,start,mid,end)\n",
    "     \n",
    "\n",
    "arr=[45,33,1,7,2,50,10,2,12]\n",
    "merge_sort(arr,0,len(arr)-1)\n",
    "print(arr)"
   ]
  },
  {
   "cell_type": "code",
   "execution_count": 11,
   "id": "d221be40",
   "metadata": {},
   "outputs": [
    {
     "name": "stdout",
     "output_type": "stream",
     "text": [
      "[1, 2, 7, 10, 12, 33, 45, 50]\n"
     ]
    }
   ],
   "source": [
    "# merge sort on original array \n",
    "def merge(arr,start,mid,end):\n",
    "    i=start\n",
    "    j=mid+1 \n",
    "    k=start\n",
    "    ans=[]\n",
    "    while i<=mid and j<=end:\n",
    "        if arr[i]<arr[j]:\n",
    "            ans.append(arr[i])\n",
    "            i+=1 \n",
    "        if arr[j]<arr[i]:\n",
    "            ans.append(arr[j])\n",
    "            j+=1\n",
    "    while i<=mid:\n",
    "        ans.append(arr[i])\n",
    "        i+=1\n",
    "    while j<=end:\n",
    "        ans.append(arr[j])\n",
    "        j+=1 \n",
    "    for i in range(len(ans)):\n",
    "        arr[start+i]=ans[i]\n",
    "    \n",
    "\n",
    "\n",
    "def merge_sort(arr,start,end):\n",
    "    if start>=end:\n",
    "        return \n",
    "    mid=(start+end)//2\n",
    "\n",
    "    merge_sort(arr,start,mid)\n",
    "    merge_sort(arr,mid+1,end)\n",
    "\n",
    "    merge(arr,start,mid,end)\n",
    "\n",
    "    \n",
    "\n",
    "arr=[45,33,1,7,2,50,10,12]\n",
    "merge_sort(arr,0,len(arr)-1)\n",
    "print(arr)"
   ]
  },
  {
   "cell_type": "code",
   "execution_count": null,
   "id": "f2a71fd3",
   "metadata": {},
   "outputs": [],
   "source": []
  }
 ],
 "metadata": {
  "kernelspec": {
   "display_name": "appliedML",
   "language": "python",
   "name": "python3"
  },
  "language_info": {
   "codemirror_mode": {
    "name": "ipython",
    "version": 3
   },
   "file_extension": ".py",
   "mimetype": "text/x-python",
   "name": "python",
   "nbconvert_exporter": "python",
   "pygments_lexer": "ipython3",
   "version": "3.10.16"
  }
 },
 "nbformat": 4,
 "nbformat_minor": 5
}
