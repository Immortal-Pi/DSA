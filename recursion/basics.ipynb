{
 "cells": [
  {
   "cell_type": "markdown",
   "id": "f0e91d9e",
   "metadata": {},
   "source": [
    "# Recursion"
   ]
  },
  {
   "cell_type": "code",
   "execution_count": null,
   "id": "a20be31b",
   "metadata": {},
   "outputs": [
    {
     "name": "stdout",
     "output_type": "stream",
     "text": [
      "1\n",
      "2\n",
      "3\n",
      "4\n",
      "5\n",
      "6\n",
      "7\n",
      "8\n",
      "9\n",
      "10\n"
     ]
    }
   ],
   "source": [
    "def printNum(num):\n",
    "    print(num)\n",
    "    if num==1:\n",
    "        return \n",
    "    printNum(num-1)\n",
    "\n",
    "printNum(10)"
   ]
  },
  {
   "cell_type": "markdown",
   "id": "ff4cdaef",
   "metadata": {},
   "source": [
    "# factorial of a number"
   ]
  },
  {
   "cell_type": "code",
   "execution_count": 4,
   "id": "7853ecab",
   "metadata": {},
   "outputs": [
    {
     "data": {
      "text/plain": [
       "120"
      ]
     },
     "execution_count": 4,
     "metadata": {},
     "output_type": "execute_result"
    }
   ],
   "source": [
    "def factorial(num):\n",
    "    if num>0:\n",
    "        return num* factorial(num-1)\n",
    "    return 1\n",
    "\n",
    "factorial(5)"
   ]
  },
  {
   "cell_type": "code",
   "execution_count": 3,
   "id": "0f4cd47a",
   "metadata": {},
   "outputs": [
    {
     "name": "stdout",
     "output_type": "stream",
     "text": [
      "4000\n"
     ]
    }
   ],
   "source": [
    "import sys \n",
    "print(sys.getrecursionlimit())"
   ]
  },
  {
   "cell_type": "code",
   "execution_count": 2,
   "id": "2b643cdc",
   "metadata": {},
   "outputs": [],
   "source": [
    "sys.setrecursionlimit(4000)"
   ]
  },
  {
   "cell_type": "markdown",
   "id": "a0dd5d69",
   "metadata": {},
   "source": [
    "# finding 2^n for a given n usign recursion"
   ]
  },
  {
   "cell_type": "code",
   "execution_count": 11,
   "id": "5740f0b9",
   "metadata": {},
   "outputs": [
    {
     "data": {
      "text/plain": [
       "32"
      ]
     },
     "execution_count": 11,
     "metadata": {},
     "output_type": "execute_result"
    }
   ],
   "source": [
    "def towpow(num):\n",
    "    if num>0:\n",
    "        return(2*towpow(num-1)) \n",
    "    return 1 \n",
    "\n",
    "towpow(5)"
   ]
  },
  {
   "cell_type": "markdown",
   "id": "bacef35e",
   "metadata": {},
   "source": [
    "# sum of all nautal numbers of a given number (n)"
   ]
  },
  {
   "cell_type": "code",
   "execution_count": 14,
   "id": "ad075788",
   "metadata": {},
   "outputs": [
    {
     "data": {
      "text/plain": [
       "15"
      ]
     },
     "execution_count": 14,
     "metadata": {},
     "output_type": "execute_result"
    }
   ],
   "source": [
    "def sum_of_n(num):\n",
    "    if num>0:\n",
    "        return num + sum_of_n(num-1)\n",
    "    return 0 \n",
    "\n",
    "sum_of_n(5)"
   ]
  },
  {
   "cell_type": "markdown",
   "id": "a3950eaf",
   "metadata": {},
   "source": [
    "# find no of digits in a number "
   ]
  },
  {
   "cell_type": "code",
   "execution_count": 34,
   "id": "ce71d0d9",
   "metadata": {},
   "outputs": [
    {
     "data": {
      "text/plain": [
       "8"
      ]
     },
     "execution_count": 34,
     "metadata": {},
     "output_type": "execute_result"
    }
   ],
   "source": [
    "def number_of_digits(n):\n",
    "    if n//10==0:\n",
    "        return 1 \n",
    "    return 1+number_of_digits(n//10)\n",
    "    \n",
    "\n",
    "number_of_digits(12345678)"
   ]
  },
  {
   "cell_type": "code",
   "execution_count": 35,
   "id": "913158e0",
   "metadata": {},
   "outputs": [
    {
     "data": {
      "text/plain": [
       "8"
      ]
     },
     "execution_count": 35,
     "metadata": {},
     "output_type": "execute_result"
    }
   ],
   "source": [
    "def number_of_digits(n):\n",
    "    if n>=1 and n<=9:\n",
    "        return 1 \n",
    "    elif (n==0):\n",
    "        return 1 \n",
    "    return 1+number_of_digits(n//10)\n",
    "    \n",
    "\n",
    "number_of_digits(12345678)"
   ]
  },
  {
   "cell_type": "markdown",
   "id": "f2580d60",
   "metadata": {},
   "source": [
    "# Fibonicci series "
   ]
  },
  {
   "cell_type": "code",
   "execution_count": 16,
   "id": "6af57d11",
   "metadata": {},
   "outputs": [
    {
     "data": {
      "text/plain": [
       "8"
      ]
     },
     "execution_count": 16,
     "metadata": {},
     "output_type": "execute_result"
    }
   ],
   "source": [
    "def fibonicci(pos):\n",
    "    if pos==0 or pos==1:\n",
    "        return 1 \n",
    "    return fibonicci(pos-1)+fibonicci(pos-2)\n",
    "\n",
    "\n",
    "fibonicci(5)\n"
   ]
  },
  {
   "cell_type": "markdown",
   "id": "7eeef1d0",
   "metadata": {},
   "source": [
    "# Head vs Tail recursion"
   ]
  },
  {
   "cell_type": "code",
   "execution_count": 19,
   "id": "4d431cb6",
   "metadata": {},
   "outputs": [],
   "source": [
    "# Head recursion \n",
    "def factHead(n):\n",
    "    if n==0:\n",
    "        return 1 \n",
    "    smallAnswer=factHead(n-1)\n",
    "    finalAnswer=n*smallAnswer\n",
    "    return finalAnswer"
   ]
  },
  {
   "cell_type": "code",
   "execution_count": null,
   "id": "ae21dbf9",
   "metadata": {},
   "outputs": [
    {
     "data": {
      "text/plain": [
       "24"
      ]
     },
     "execution_count": 17,
     "metadata": {},
     "output_type": "execute_result"
    }
   ],
   "source": [
    "# Tail recursion \n",
    "def factTail(n,accumulator=1):\n",
    "    if (n==0):\n",
    "        return accumulator\n",
    "    accumulator=accumulator*n \n",
    "    return factTail(n-1,accumulator)\n",
    "factTail(4)"
   ]
  },
  {
   "cell_type": "code",
   "execution_count": null,
   "id": "f7b9f8ae",
   "metadata": {},
   "outputs": [],
   "source": [
    "# write a program for a given number n \n",
    "# 1] print 1 to N \n",
    "# 2] Print N to 1 "
   ]
  },
  {
   "cell_type": "code",
   "execution_count": 37,
   "id": "21f74f93",
   "metadata": {},
   "outputs": [
    {
     "name": "stdout",
     "output_type": "stream",
     "text": [
      "1\n",
      "2\n",
      "3\n",
      "4\n",
      "5\n"
     ]
    }
   ],
   "source": [
    "#1] print 1 to N \n",
    "def printNum(n):\n",
    "    if n>0:\n",
    "        printNum(n-1)\n",
    "        print(n)\n",
    "printNum(5)"
   ]
  },
  {
   "cell_type": "code",
   "execution_count": 40,
   "id": "ef767612",
   "metadata": {},
   "outputs": [
    {
     "name": "stdout",
     "output_type": "stream",
     "text": [
      "5\n",
      "4\n",
      "3\n",
      "2\n",
      "1\n"
     ]
    }
   ],
   "source": [
    "#2] Print N to 1 \n",
    "def printNum(n):\n",
    "    if n>0:\n",
    "        print(n)\n",
    "        return printNum(n-1)\n",
    "printNum(5)"
   ]
  },
  {
   "cell_type": "code",
   "execution_count": 42,
   "id": "f834189d",
   "metadata": {},
   "outputs": [
    {
     "data": {
      "text/plain": [
       "[1, 2, 3, 4, 5]"
      ]
     },
     "execution_count": 42,
     "metadata": {},
     "output_type": "execute_result"
    }
   ],
   "source": [
    "def count_to_n(n):\n",
    "    if n==1:\n",
    "        return [1]\n",
    "    return count_to_n(n-1) + [n]\n",
    "\n",
    "count_to_n(5)"
   ]
  },
  {
   "cell_type": "code",
   "execution_count": 43,
   "id": "2c0286e5",
   "metadata": {},
   "outputs": [
    {
     "data": {
      "text/plain": [
       "[5, 4, 3, 2, 1]"
      ]
     },
     "execution_count": 43,
     "metadata": {},
     "output_type": "execute_result"
    }
   ],
   "source": [
    "def count_to_n(n):\n",
    "    if n==1:\n",
    "        return [1]\n",
    "    return [n]+count_to_n(n-1)\n",
    "    \n",
    "\n",
    "count_to_n(5)"
   ]
  },
  {
   "cell_type": "markdown",
   "id": "5d4edf4a",
   "metadata": {},
   "source": [
    "# sum of digit of a number"
   ]
  },
  {
   "cell_type": "code",
   "execution_count": 52,
   "id": "51f94ddc",
   "metadata": {},
   "outputs": [
    {
     "data": {
      "text/plain": [
       "45"
      ]
     },
     "execution_count": 52,
     "metadata": {},
     "output_type": "execute_result"
    }
   ],
   "source": [
    "def sum_of_digit(num):\n",
    "    if num>=0 and num<=9:\n",
    "        return num\n",
    "    return num%10 + sum_of_digit(num//10)\n",
    "\n",
    "sum_of_digit(99999)"
   ]
  },
  {
   "cell_type": "markdown",
   "id": "67a21db5",
   "metadata": {},
   "source": [
    "# Power of a number"
   ]
  },
  {
   "cell_type": "code",
   "execution_count": 55,
   "id": "79d659af",
   "metadata": {},
   "outputs": [
    {
     "data": {
      "text/plain": [
       "1048576"
      ]
     },
     "execution_count": 55,
     "metadata": {},
     "output_type": "execute_result"
    }
   ],
   "source": [
    "def pow_of_number(base,exponent):\n",
    "    if exponent==0:\n",
    "        return 1 \n",
    "    return base * pow_of_number(base,exponent-1)\n",
    "\n",
    "pow_of_number(4,10)\n"
   ]
  },
  {
   "cell_type": "code",
   "execution_count": null,
   "id": "e7f1f474",
   "metadata": {},
   "outputs": [],
   "source": []
  }
 ],
 "metadata": {
  "kernelspec": {
   "display_name": "appliedML",
   "language": "python",
   "name": "python3"
  },
  "language_info": {
   "codemirror_mode": {
    "name": "ipython",
    "version": 3
   },
   "file_extension": ".py",
   "mimetype": "text/x-python",
   "name": "python",
   "nbconvert_exporter": "python",
   "pygments_lexer": "ipython3",
   "version": "3.10.16"
  }
 },
 "nbformat": 4,
 "nbformat_minor": 5
}
